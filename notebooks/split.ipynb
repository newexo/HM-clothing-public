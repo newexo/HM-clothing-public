{
 "cells": [
  {
   "cell_type": "code",
   "execution_count": null,
   "id": "eb823a72",
   "metadata": {},
   "outputs": [],
   "source": [
    "import pandas as pd"
   ]
  },
  {
   "cell_type": "code",
   "execution_count": 1,
   "id": "20ae5b4e",
   "metadata": {},
   "outputs": [],
   "source": [
    "from hmcollab import datasets"
   ]
  },
  {
   "cell_type": "markdown",
   "id": "d14791f4",
   "metadata": {},
   "source": [
    "### Regular dataset"
   ]
  },
  {
   "cell_type": "code",
   "execution_count": 2,
   "id": "40a35260",
   "metadata": {},
   "outputs": [],
   "source": [
    "dataset = datasets.HMDataset()"
   ]
  },
  {
   "cell_type": "code",
   "execution_count": 3,
   "id": "3b2a0172",
   "metadata": {},
   "outputs": [
    {
     "data": {
      "text/plain": [
       "(31788324, 5)"
      ]
     },
     "execution_count": 3,
     "metadata": {},
     "output_type": "execute_result"
    }
   ],
   "source": [
    "dataset.transactions.shape"
   ]
  },
  {
   "cell_type": "markdown",
   "id": "de8aca8d",
   "metadata": {},
   "source": [
    "Two years worth of data:"
   ]
  },
  {
   "cell_type": "code",
   "execution_count": 7,
   "id": "7bf4d1bb",
   "metadata": {},
   "outputs": [
    {
     "name": "stdout",
     "output_type": "stream",
     "text": [
      "Last date:  2020-09-22 00:00:00\n",
      "Oldest date:  2018-09-20 00:00:00\n"
     ]
    }
   ],
   "source": [
    "dataset.transactions[\"date\"] = pd.to_datetime(dataset.transactions[\"t_dat\"].copy(), format=\"%Y-%m-%d\")\n",
    "print('Last date: ', dataset.transactions[\"date\"].max())\n",
    "print('Oldest date: ', dataset.transactions[\"date\"].min())"
   ]
  },
  {
   "cell_type": "code",
   "execution_count": 4,
   "id": "cd314e6e",
   "metadata": {},
   "outputs": [
    {
     "name": "stdout",
     "output_type": "stream",
     "text": [
      "train_x:  (25208739, 5)\n",
      "train_y:  (212299, 5)\n",
      "test_x:  (6313221, 5)\n",
      "test_y:  (54065, 5)\n"
     ]
    }
   ],
   "source": [
    "print('train_x: ', dataset.train_x.shape)\n",
    "print('train_y: ', dataset.train_y.shape)\n",
    "print('test_x: ', dataset.test_x.shape)\n",
    "print('test_y: ', dataset.test_y.shape)"
   ]
  },
  {
   "cell_type": "markdown",
   "id": "cc08eed3",
   "metadata": {},
   "source": [
    "### Toy dataset (transactions)"
   ]
  },
  {
   "cell_type": "code",
   "execution_count": null,
   "id": "b2b6a657",
   "metadata": {},
   "outputs": [],
   "source": [
    "toy = datasets.HMDataset(toy=True)"
   ]
  },
  {
   "cell_type": "code",
   "execution_count": 10,
   "id": "272c6394",
   "metadata": {},
   "outputs": [
    {
     "data": {
      "text/plain": [
       "(252406, 5)"
      ]
     },
     "execution_count": 10,
     "metadata": {},
     "output_type": "execute_result"
    }
   ],
   "source": [
    "toy.transactions.shape"
   ]
  },
  {
   "cell_type": "code",
   "execution_count": 11,
   "id": "c29ec2a6",
   "metadata": {},
   "outputs": [
    {
     "name": "stdout",
     "output_type": "stream",
     "text": [
      "train:  (199581, 5)\n",
      "train_x:  (197978, 5)\n",
      "train_y:  (1603, 5)\n",
      "test:  (52825, 5)\n",
      "test_x:  (52393, 5)\n",
      "test_y:  (432, 5)\n"
     ]
    }
   ],
   "source": [
    "print('train: ', toy.train.shape)\n",
    "print('train_x: ', toy.train_x.shape)\n",
    "print('train_y: ', toy.train_y.shape)\n",
    "print('test: ', toy.test.shape)\n",
    "print('test_x: ', toy.test_x.shape)\n",
    "print('test_y: ', toy.test_y.shape)"
   ]
  },
  {
   "cell_type": "code",
   "execution_count": null,
   "id": "a0def6b7",
   "metadata": {},
   "outputs": [],
   "source": []
  }
 ],
 "metadata": {
  "kernelspec": {
   "display_name": "Python 3 (ipykernel)",
   "language": "python",
   "name": "python3"
  },
  "language_info": {
   "codemirror_mode": {
    "name": "ipython",
    "version": 3
   },
   "file_extension": ".py",
   "mimetype": "text/x-python",
   "name": "python",
   "nbconvert_exporter": "python",
   "pygments_lexer": "ipython3",
   "version": "3.10.2"
  }
 },
 "nbformat": 4,
 "nbformat_minor": 5
}
