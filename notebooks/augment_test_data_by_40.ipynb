{
 "cells": [
  {
   "cell_type": "code",
   "execution_count": 1,
   "id": "4e89992d",
   "metadata": {},
   "outputs": [],
   "source": [
    "import pandas as pd\n",
    "import numpy as np"
   ]
  },
  {
   "cell_type": "code",
   "execution_count": 2,
   "id": "dd3a2b94",
   "metadata": {},
   "outputs": [],
   "source": [
    "from hmcollab import directories\n",
    "from hmcollab import datasets\n",
    "from hmcollab import splitter"
   ]
  },
  {
   "cell_type": "code",
   "execution_count": 3,
   "id": "c9ed68bf",
   "metadata": {},
   "outputs": [],
   "source": [
    "tree = datasets.HMDatasetDirectoryTree()\n",
    "dataset = datasets.HMDataset(tree=tree)\n"
   ]
  },
  {
   "cell_type": "code",
   "execution_count": 4,
   "id": "3df68cdc",
   "metadata": {},
   "outputs": [],
   "source": [
    "test_tree = datasets.HMDatasetDirectoryTree(directories.testdata())\n",
    "test_data = datasets.HMDataset(tree=test_tree)"
   ]
  },
  {
   "cell_type": "code",
   "execution_count": 5,
   "id": "a88541fa",
   "metadata": {},
   "outputs": [],
   "source": [
    "test10_tree = datasets.HMDatasetDirectoryTree(directories.testdata(\"ten_customers\"))\n",
    "test10_data = datasets.HMDataset(tree=test10_tree)"
   ]
  },
  {
   "cell_type": "code",
   "execution_count": 6,
   "id": "d9f55840",
   "metadata": {},
   "outputs": [
    {
     "data": {
      "text/plain": [
       "array(['08f60b0c07fc14fffc8983aec045c80ede7a419793046375a7ef75b6a18afdf0',\n",
       "       '18cfbd899a5f5f3b4bc0a0430104e0fd436c9fb10402eb184d95582a9f59d8b3',\n",
       "       '00000dbacae5abe5e23885899a1fa44253a17956c6d1c3d25f88aa139fdfc657',\n",
       "       '0000423b00ade91418cceaf3b26c6af3dd342b51fd051eec9c12fb36984420fa',\n",
       "       'cb37880afc6777d7c63ecc851086aadc3ed06b5bec1975ea892430f3013c792c'],\n",
       "      dtype=object)"
      ]
     },
     "execution_count": 6,
     "metadata": {},
     "output_type": "execute_result"
    }
   ],
   "source": [
    "test_data.customers.customer_id.unique()"
   ]
  },
  {
   "cell_type": "code",
   "execution_count": 7,
   "id": "a253247c",
   "metadata": {},
   "outputs": [
    {
     "data": {
      "text/plain": [
       "array(['00000dbacae5abe5e23885899a1fa44253a17956c6d1c3d25f88aa139fdfc657',\n",
       "       '0000423b00ade91418cceaf3b26c6af3dd342b51fd051eec9c12fb36984420fa',\n",
       "       '000058a12d5b43e67d225668fa1f8d618c13dc232df0cad8ffe7ad4a1091e318',\n",
       "       '00005ca1c9ed5f5146b52ac8639a40ca9d57aeff4d1bd2c5feb1ca5dff07c43e',\n",
       "       '00006413d8573cd20ed7128e53b7b13819fe5cfc2d801fe7fc0f26dd8d65a85a',\n",
       "       '000064249685c11552da43ef22a5030f35a147f723d5b02ddd9fd22452b1f5a6',\n",
       "       '0000757967448a6cb83efb3ea7a3fb9d418ac7adf2379d8cd0c725276a467a2a',\n",
       "       '00007d2de826758b65a93dd24ce629ed66842531df6699338c5570910a014cc2',\n",
       "       '00007e8d4e54114b5b2a9b51586325a8d0fa74ea23ef77334eaec4ffccd7ebcc',\n",
       "       '00008469a21b50b3d147c97135e25b4201a8c58997f78782a0cc706645e14493'],\n",
       "      dtype=object)"
      ]
     },
     "execution_count": 7,
     "metadata": {},
     "output_type": "execute_result"
    }
   ],
   "source": [
    "test10_data.customers.customer_id.unique()"
   ]
  },
  {
   "cell_type": "code",
   "execution_count": 8,
   "id": "b6968713",
   "metadata": {},
   "outputs": [],
   "source": [
    "r = np.random.RandomState(42)"
   ]
  },
  {
   "cell_type": "code",
   "execution_count": 9,
   "id": "296f0592",
   "metadata": {},
   "outputs": [],
   "source": [
    "all_customers = dataset.customers.customer_id.unique()"
   ]
  },
  {
   "cell_type": "code",
   "execution_count": 10,
   "id": "bdb9ee20",
   "metadata": {},
   "outputs": [],
   "source": [
    "forty = r.choice(all_customers, size=40, replace=False)"
   ]
  },
  {
   "cell_type": "code",
   "execution_count": 11,
   "id": "35a56ac1",
   "metadata": {},
   "outputs": [
    {
     "data": {
      "text/plain": [
       "{'006c738160e3235bd8b46bb6f2a5b36f14ff8299c961f713ec1648017a5c67e2',\n",
       " '023e2bbafba1d7e62537c7894a909e79d0505897fec6ae83b3d7369d4ed075ac',\n",
       " '0650bd95fe9658f9afa9a21fe08823fa41de1fb11f6f819a655c16ef1ba51e7b',\n",
       " '08104b0ff2b1f4422fcf1547ddc175bdc17f9a6cec37a3f1f07d5a13ca1168a9',\n",
       " '0df50cbaccd0bbd3ffca435197a84998d5334202f2676f67728b132da984b49d',\n",
       " '11b511d20267f66ab323cd61141a7ed797399d45c67ef151971737dab9a93d36',\n",
       " '2806fcc928eb66de1dd33205135f9b3ea661fcd2c37197eb6a13c2f93c1f4bd7',\n",
       " '309de68e2003d3944ce891fa38f1f7b190522eb6b63146a0bff941fb8b339be5',\n",
       " '386b8cab6637d3159758c999a3d52caf68ec024297652bdf60a63da78bdc7aa0',\n",
       " '3cbf697fe7b298905b846a5ac253f8d82147b41f98b4d17ac2a11f0a3d9beda8',\n",
       " '3f336772d22047d09129e4f0b8234c0a8e45df2b26a2f443b4f3aeff013a8090',\n",
       " '40b102e28c4e71ca4b2fc5d97699ddeac269be90c9ef0123d3a5d28e62ba4247',\n",
       " '4b889f848f59f9bf787b16626f96d0390c3f9ab3ed3edcc8ccc7a451d5acae10',\n",
       " '4ebc374ba94e41168afa21045514c02559ade68a77b4d47c9d0a4b241b9fbf1d',\n",
       " '5d1fe00edb2384ca6e804e5e2030772ec8f5306059da7368aa7acf9e71021666',\n",
       " '5f41a174026d69e96bade7f572dfab6b612482a2244e82550885b2de0ec80bbc',\n",
       " '72529945a566eb7445e51470ef00c5992976ddaf7d9f82bd0dbb38228c0b244b',\n",
       " '725b95bd9404996b4a2c9b7f6e2dd3fd19cbe8c0a919cf93b0606cccb245f034',\n",
       " '79199c2f722a88abc0bf69410910a302b062893b29608647c34a4cdf38fd7fd7',\n",
       " '7bad01c1ad7a9bccc9270a29bf24279b4e19b41afc1b4a605bc18e1668f9fb35',\n",
       " '7f52372053f4282d546a2b8eb4dfdbf17a5df363e2825a87c6c8a2843872fbda',\n",
       " '7f5be91197869105de42437b8c96eaefe805a9652aaa0ec2c2fe32a336436536',\n",
       " '83ad3a5e70c49c438221f67cc28825ace927764632d78b8bb1a83f70c24141ac',\n",
       " '995dd3c210578224bdc6042af5da38fad85e46afdd4f770bfad08a2f21a11a9a',\n",
       " '9bf81bb97882f398974e2d0190d253f6eb218f3c2103ab30d290d36a078d1b75',\n",
       " 'a893f3ce07a7b75204fcd710dba5b589212e927dc594027d4fe0dd40d2f5cacc',\n",
       " 'bc92d2186b50c954c2381e085d8ff9850e111cf460ef3fa21172c00755a91b34',\n",
       " 'bd0ef641c90ef0c634a957edf6a4b72cf541bea8fa2b4c8026f6d21c92cd48e5',\n",
       " 'bdab743dbdeb4b7cfde5aaf3f0c9d3a89d2be20a8d5428fda9428fa4ceff700a',\n",
       " 'bed6979e4c947ad451fad7235ffab1e61ad95517e8cf26cb9e9d68a4decc9b5f',\n",
       " 'bedc24a0906e95729f0d2b50ef08e63a9bdd8e01f29f288ec07531a39db9fd81',\n",
       " 'c020c2dfb076bd6192e555684a86cd3bc1cd0d913fa8aff151118b36a5db11ef',\n",
       " 'c417fc91f6eb0c30e9642716898177ffb09198b08c68dd5d94c055df33164556',\n",
       " 'd1c91a9050fcb6da04f0643c6b6d38b002b6ff12d66e804de258f69825b02fca',\n",
       " 'd3b658f59ad9bbf6249a7bf0db722f2f43cc47803d03299a3feb24487f1b6fbe',\n",
       " 'd529e1c4120cda88d7c3906926ef6f73c3ea3114605ab9fc89dc1e61904fb1a1',\n",
       " 'df6ae5106281e6a424ca88bf70cf9a0fdbbea20669e44a6f93ac7ed5cb1863e5',\n",
       " 'e9d5c82ff885d03aa0c2a69db4c98cf95675c59a0c5634624eaa593e23db8973',\n",
       " 'ecec63e8840393e2087453b86c5967c2e8f9ddf66d07348881206d45afdc65e9',\n",
       " 'f0285b6740a766bfbd3b385cec6f8f8d10ec697eed122017e1d7a37000ce33c6'}"
      ]
     },
     "execution_count": 11,
     "metadata": {},
     "output_type": "execute_result"
    }
   ],
   "source": [
    "forty = set(forty)\n",
    "forty"
   ]
  },
  {
   "cell_type": "code",
   "execution_count": 12,
   "id": "4e45e20f",
   "metadata": {},
   "outputs": [],
   "source": [
    "forty.update(test_data.customers.customer_id.unique())"
   ]
  },
  {
   "cell_type": "code",
   "execution_count": 13,
   "id": "53177be5",
   "metadata": {},
   "outputs": [],
   "source": [
    "forty.update(test10_data.customers.customer_id.unique())"
   ]
  },
  {
   "cell_type": "code",
   "execution_count": 14,
   "id": "700439eb",
   "metadata": {},
   "outputs": [
    {
     "data": {
      "text/plain": [
       "53"
      ]
     },
     "execution_count": 14,
     "metadata": {},
     "output_type": "execute_result"
    }
   ],
   "source": [
    "# I know this is going to seem silly\n",
    "len(forty)"
   ]
  },
  {
   "cell_type": "code",
   "execution_count": 15,
   "id": "0f06923a",
   "metadata": {},
   "outputs": [],
   "source": [
    "portion = splitter.CustomerPortion(forty)\n",
    "pruned_dataset = portion.split(dataset)"
   ]
  },
  {
   "cell_type": "code",
   "execution_count": 16,
   "id": "6c2400d7",
   "metadata": {},
   "outputs": [
    {
     "name": "stdout",
     "output_type": "stream",
     "text": [
      "(53, 7)\n",
      "(1557, 5)\n",
      "(1223, 25)\n"
     ]
    }
   ],
   "source": [
    "print(pruned_dataset.customers.shape)\n",
    "print(pruned_dataset.transactions.shape)\n",
    "print(pruned_dataset.articles.shape)"
   ]
  },
  {
   "cell_type": "code",
   "execution_count": 17,
   "id": "a6b99d50",
   "metadata": {},
   "outputs": [],
   "source": [
    "pruned_dataset.customers.to_csv(directories.testdata(\"forty_more_customers/customers.csv\"), index=False)"
   ]
  },
  {
   "cell_type": "code",
   "execution_count": 18,
   "id": "b4141e64",
   "metadata": {},
   "outputs": [],
   "source": [
    "pruned_dataset.articles.to_csv(directories.testdata(\"forty_more_customers/articles.csv\"), index=False)"
   ]
  },
  {
   "cell_type": "code",
   "execution_count": 19,
   "id": "f81dc8d1",
   "metadata": {},
   "outputs": [],
   "source": [
    "pruned_dataset.transactions.to_csv(directories.testdata(\"forty_more_customers/transactions_train.csv\"), index=False)"
   ]
  },
  {
   "cell_type": "code",
   "execution_count": null,
   "id": "ae1bc554",
   "metadata": {},
   "outputs": [],
   "source": []
  }
 ],
 "metadata": {
  "kernelspec": {
   "display_name": "Python 3 (ipykernel)",
   "language": "python",
   "name": "python3"
  },
  "language_info": {
   "codemirror_mode": {
    "name": "ipython",
    "version": 3
   },
   "file_extension": ".py",
   "mimetype": "text/x-python",
   "name": "python",
   "nbconvert_exporter": "python",
   "pygments_lexer": "ipython3",
   "version": "3.8.12"
  }
 },
 "nbformat": 4,
 "nbformat_minor": 5
}
