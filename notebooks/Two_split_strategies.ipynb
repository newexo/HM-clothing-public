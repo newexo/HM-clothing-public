{
 "cells": [
  {
   "cell_type": "markdown",
   "id": "1d97db36",
   "metadata": {},
   "source": [
    "Updated: Sep7th, 2022"
   ]
  },
  {
   "cell_type": "code",
   "execution_count": 15,
   "id": "6196823c",
   "metadata": {},
   "outputs": [],
   "source": [
    "from hmcollab import datasets\n",
    "from hmcollab import transactions"
   ]
  },
  {
   "cell_type": "code",
   "execution_count": 16,
   "id": "5d8b336f",
   "metadata": {},
   "outputs": [],
   "source": [
    "import pandas as pd\n",
    "from datetime import datetime, timedelta\n",
    "import warnings\n",
    "warnings.filterwarnings(\"ignore\")"
   ]
  },
  {
   "cell_type": "markdown",
   "id": "d97730c3",
   "metadata": {},
   "source": [
    "## Aim: Demonstrate usage for two split strategies\n",
    "+ Folds=True: split the customers into 3 datasets (train, val, test)\n",
    "+ Folds=False: uses all customers for training leaving las two weeks for validation and test"
   ]
  },
  {
   "cell_type": "markdown",
   "id": "aa9ef987",
   "metadata": {},
   "source": [
    "### Folds=True (train_x, train_y; val_x, val_y; test_x, test_y)\n",
    "Creating three datasets of customers: one for training, one for validation and one for testing. All of them with their respective target variable y"
   ]
  },
  {
   "cell_type": "code",
   "execution_count": 17,
   "id": "6f06a4a3",
   "metadata": {},
   "outputs": [
    {
     "name": "stdout",
     "output_type": "stream",
     "text": [
      "Seconds:  3.847751\n",
      "Transactions shape:  (252406, 5)\n",
      "Unique customers:  (10899,)\n"
     ]
    }
   ],
   "source": [
    "begin = datetime.now()\n",
    "toy = datasets.HMDataset(toy=True, folds=True)\n",
    "print('Seconds: ',(datetime.now() - begin).total_seconds())\n",
    "print('Transactions shape: ', toy.transactions.shape)\n",
    "print('Unique customers: ',toy.transactions.customer_id.unique().shape)"
   ]
  },
  {
   "cell_type": "code",
   "execution_count": 18,
   "id": "98c7daa3",
   "metadata": {},
   "outputs": [
    {
     "name": "stdout",
     "output_type": "stream",
     "text": [
      "TRAIN SET:\n",
      "train_x shape:  (147626, 5)\n",
      "train_y shape:  (1174, 5)\n",
      "VALIDATION SET:\n",
      "val_x shape:  (50352, 5)\n",
      "val_y shape:  (357, 5)\n",
      "TEST SET:\n",
      "test_x shape:  (52393, 5)\n",
      "test_y shape:  (432, 5)\n",
      "RELEVANT SET:\n",
      "relevant_set shape:  (578, 2)\n"
     ]
    }
   ],
   "source": [
    "#Note: This split might be over simplistic. We are not stratifying \n",
    "print('TRAIN SET:')\n",
    "print('train_x shape: ', toy.train_x.shape)\n",
    "print('train_y shape: ', toy.train_y.shape)\n",
    "print('VALIDATION SET:')\n",
    "print('val_x shape: ', toy.val_x.shape)\n",
    "print('val_y shape: ', toy.val_y.shape)\n",
    "print('TEST SET:')\n",
    "print('test_x shape: ', toy.test_x.shape)\n",
    "print('test_y shape: ', toy.test_y.shape)\n",
    "print('RELEVANT SET:')\n",
    "print('relevant_set shape: ', toy.relevant_set.shape)"
   ]
  },
  {
   "cell_type": "markdown",
   "id": "e2191510",
   "metadata": {},
   "source": [
    "### Folds=False (train_x, train_vy, train_y)\n",
    "Creating only one training set with validation and test sets"
   ]
  },
  {
   "cell_type": "code",
   "execution_count": 19,
   "id": "c55000e7",
   "metadata": {},
   "outputs": [
    {
     "name": "stdout",
     "output_type": "stream",
     "text": [
      "Seconds:  3.817856\n",
      "Transactions shape:  (252406, 5)\n",
      "Unique customers:  (10899,)\n"
     ]
    }
   ],
   "source": [
    "begin = datetime.now()\n",
    "toy = datasets.HMDataset(toy=True, folds=False)\n",
    "print('Seconds: ',(datetime.now() - begin).total_seconds())\n",
    "print('Transactions shape: ', toy.transactions.shape)\n",
    "print('Unique customers: ',toy.transactions.customer_id.unique().shape)"
   ]
  },
  {
   "cell_type": "code",
   "execution_count": 20,
   "id": "c68feee4",
   "metadata": {},
   "outputs": [
    {
     "name": "stdout",
     "output_type": "stream",
     "text": [
      "TRAIN SET:\n",
      "train_x shape:  (247953, 5)\n",
      "validation (train_vy shape):  (2418, 5)\n",
      "test (train_y shape):  (2035, 5)\n",
      "RELEVANT SET:\n",
      "relevant_set shape:  (578, 2)\n"
     ]
    }
   ],
   "source": [
    "#Note: This split might be over simplistic. We are not stratifying \n",
    "print('TRAIN SET:')\n",
    "print('train_x shape: ', toy.train_x.shape)\n",
    "print('validation (train_vy shape): ', toy.train_vy.shape)\n",
    "print('test (train_y shape): ', toy.train_y.shape)\n",
    "print('RELEVANT SET:')\n",
    "print('relevant_set shape: ', toy.relevant_set.shape)"
   ]
  },
  {
   "cell_type": "code",
   "execution_count": null,
   "id": "2d82ac34",
   "metadata": {},
   "outputs": [],
   "source": []
  }
 ],
 "metadata": {
  "kernelspec": {
   "display_name": "Python 3 (ipykernel)",
   "language": "python",
   "name": "python3"
  },
  "language_info": {
   "codemirror_mode": {
    "name": "ipython",
    "version": 3
   },
   "file_extension": ".py",
   "mimetype": "text/x-python",
   "name": "python",
   "nbconvert_exporter": "python",
   "pygments_lexer": "ipython3",
   "version": "3.10.2"
  }
 },
 "nbformat": 4,
 "nbformat_minor": 5
}
