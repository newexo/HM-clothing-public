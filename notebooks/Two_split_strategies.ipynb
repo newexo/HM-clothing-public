{
 "cells": [
  {
   "attachments": {},
   "cell_type": "markdown",
   "id": "1d97db36",
   "metadata": {},
   "source": [
    "Updated: May16th, 2023"
   ]
  },
  {
   "cell_type": "code",
   "execution_count": 1,
   "id": "6196823c",
   "metadata": {},
   "outputs": [],
   "source": [
    "from hmcollab import datasets\n",
    "from hmcollab import transactions"
   ]
  },
  {
   "cell_type": "code",
   "execution_count": 2,
   "id": "5d8b336f",
   "metadata": {},
   "outputs": [],
   "source": [
    "import pandas as pd\n",
    "from datetime import datetime, timedelta\n",
    "import warnings\n",
    "warnings.filterwarnings(\"ignore\")"
   ]
  },
  {
   "attachments": {},
   "cell_type": "markdown",
   "id": "d97730c3",
   "metadata": {},
   "source": [
    "## Aim: Demonstrate usage for two split strategies (which now are actually three)\n",
    "+ Folds = twosets: split the customers into 2 datasets, each of them with their target (y) set (train, test)\n",
    "+ Folds=threesets: split the customers into 3 datasets each of them with their target (y) set  (train, val, test)\n",
    "+ Folds=standard: uses all customers for training leaving las two weeks for validation and test"
   ]
  },
  {
   "attachments": {},
   "cell_type": "markdown",
   "id": "aa9ef987",
   "metadata": {},
   "source": [
    "### Folds=threesets (train_x, trsin_y; val_x, val_y; test_x, test_y)\n",
    "Creating three datasets of customers: one for training, one for validation and one for testing. All of them with their respective target variable y"
   ]
  },
  {
   "cell_type": "code",
   "execution_count": 3,
   "id": "6f06a4a3",
   "metadata": {},
   "outputs": [
    {
     "name": "stdout",
     "output_type": "stream",
     "text": [
      "Seconds:  4.137853\n",
      "Transactions shape:  (252406, 5)\n",
      "Unique customers:  (10899,)\n"
     ]
    }
   ],
   "source": [
    "begin = datetime.now()\n",
    "toy3 = datasets.HMDataset(toy=True, folds=\"threesets\")\n",
    "print('Seconds: ',(datetime.now() - begin).total_seconds())\n",
    "print('Transactions shape: ', toy3.transactions.shape)\n",
    "print('Unique customers: ',toy3.transactions.customer_id.unique().shape)"
   ]
  },
  {
   "cell_type": "code",
   "execution_count": 4,
   "id": "98c7daa3",
   "metadata": {},
   "outputs": [
    {
     "name": "stdout",
     "output_type": "stream",
     "text": [
      "TRAIN SET:\n",
      "train_x shape:  (150018, 5)\n",
      "train_y shape:  (1111, 5)\n",
      "VALIDATION SET:\n",
      "val_x shape:  (47960, 5)\n",
      "val_y shape:  (420, 5)\n",
      "TEST SET:\n",
      "test_x shape:  (52393, 5)\n",
      "test_y shape:  (432, 5)\n",
      "RELEVANT SET:\n",
      "relevant_set shape:  (578, 2)\n"
     ]
    }
   ],
   "source": [
    "#Note: This split might be over simplistic. We are not stratifying \n",
    "print('TRAIN SET:')\n",
    "print('train_x shape: ', toy3.train_x.shape)\n",
    "print('train_y shape: ', toy3.train_y.shape)\n",
    "print('VALIDATION SET:')\n",
    "print('val_x shape: ', toy3.val_x.shape)\n",
    "print('val_y shape: ', toy3.val_y.shape)\n",
    "print('TEST SET:')\n",
    "print('test_x shape: ', toy3.test_x.shape)\n",
    "print('test_y shape: ', toy3.test_y.shape)\n",
    "print('RELEVANT SET:')\n",
    "print('relevant_set shape: ', toy3.relevant_set.shape)"
   ]
  },
  {
   "attachments": {},
   "cell_type": "markdown",
   "id": "98ab7100",
   "metadata": {},
   "source": [
    "### Folds=twosets (train_x, test_x; train_y, test_y)\n",
    "Creating two sets with corresponding test sets"
   ]
  },
  {
   "cell_type": "code",
   "execution_count": 8,
   "id": "fea166da",
   "metadata": {},
   "outputs": [
    {
     "name": "stdout",
     "output_type": "stream",
     "text": [
      "Seconds:  4.067938\n",
      "Transactions shape:  (252406, 5)\n",
      "Unique customers:  (10899,)\n"
     ]
    }
   ],
   "source": [
    "begin = datetime.now()\n",
    "toy2 = datasets.HMDataset(toy=True, folds=\"twosets\")\n",
    "print('Seconds: ',(datetime.now() - begin).total_seconds())\n",
    "print('Transactions shape: ', toy2.transactions.shape)\n",
    "print('Unique customers: ',toy2.transactions.customer_id.unique().shape)"
   ]
  },
  {
   "cell_type": "code",
   "execution_count": 12,
   "id": "e47f675b",
   "metadata": {},
   "outputs": [
    {
     "name": "stdout",
     "output_type": "stream",
     "text": [
      "TRAIN SET:\n",
      "train_x shape:  (197978, 5)\n",
      "train_y shape:  (1603, 5)\n",
      "test_x shape:  (52393, 5)\n",
      "test_y shape:  (432, 5)\n",
      "RELEVANT SET:\n",
      "relevant_set shape:  (578, 2)\n"
     ]
    }
   ],
   "source": [
    "#Note: This split might be over simplistic. We are not stratifying \n",
    "print('TRAIN SET:')\n",
    "print('train_x shape: ', toy2.train_x.shape)\n",
    "print('train_y shape: ', toy2.train_y.shape)\n",
    "print('test_x shape: ', toy2.test_x.shape)\n",
    "print('test_y shape: ', toy2.test_y.shape)\n",
    "print('RELEVANT SET:')\n",
    "print('relevant_set shape: ', toy2.relevant_set.shape)\n"
   ]
  },
  {
   "attachments": {},
   "cell_type": "markdown",
   "id": "e2191510",
   "metadata": {},
   "source": [
    "### Folds=standard (train_x, train_vy, train_y)\n",
    "Creating only one training set with validation and test sets"
   ]
  },
  {
   "cell_type": "code",
   "execution_count": 5,
   "id": "c55000e7",
   "metadata": {},
   "outputs": [
    {
     "name": "stdout",
     "output_type": "stream",
     "text": [
      "Seconds:  3.989024\n",
      "Transactions shape:  (252406, 5)\n",
      "Unique customers:  (10899,)\n"
     ]
    }
   ],
   "source": [
    "begin = datetime.now()\n",
    "toy = datasets.HMDataset(toy=True, folds=\"standard\")\n",
    "print('Seconds: ',(datetime.now() - begin).total_seconds())\n",
    "print('Transactions shape: ', toy.transactions.shape)\n",
    "print('Unique customers: ',toy.transactions.customer_id.unique().shape)"
   ]
  },
  {
   "cell_type": "code",
   "execution_count": 6,
   "id": "c68feee4",
   "metadata": {},
   "outputs": [
    {
     "name": "stdout",
     "output_type": "stream",
     "text": [
      "TRAIN SET:\n",
      "train_x shape:  (247953, 5)\n",
      "validation (train_vy shape):  (2418, 5)\n",
      "test (train_y shape):  (2035, 5)\n",
      "RELEVANT SET:\n",
      "relevant_set shape:  (578, 2)\n"
     ]
    }
   ],
   "source": [
    "#Note: This split might be over simplistic. We are not stratifying \n",
    "print('TRAIN SET:')\n",
    "print('train_x shape: ', toy.train_x.shape)\n",
    "print('validation (train_vy shape): ', toy.train_vy.shape)\n",
    "print('test (train_y shape): ', toy.train_y.shape)\n",
    "print('RELEVANT SET:')\n",
    "print('relevant_set shape: ', toy.relevant_set.shape)"
   ]
  },
  {
   "cell_type": "code",
   "execution_count": null,
   "id": "2d82ac34",
   "metadata": {},
   "outputs": [],
   "source": []
  }
 ],
 "metadata": {
  "kernelspec": {
   "display_name": "hm",
   "language": "python",
   "name": "python3"
  },
  "language_info": {
   "codemirror_mode": {
    "name": "ipython",
    "version": 3
   },
   "file_extension": ".py",
   "mimetype": "text/x-python",
   "name": "python",
   "nbconvert_exporter": "python",
   "pygments_lexer": "ipython3",
   "version": "3.9.16"
  },
  "vscode": {
   "interpreter": {
    "hash": "8f7705fecca25c1e09a6628e732321150d5143e7635dbfac11f6bad55b4d56df"
   }
  }
 },
 "nbformat": 4,
 "nbformat_minor": 5
}
