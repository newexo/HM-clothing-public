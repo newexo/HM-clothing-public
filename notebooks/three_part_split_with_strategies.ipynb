{
 "cells": [
  {
   "cell_type": "code",
   "execution_count": 4,
   "id": "b3d355e8",
   "metadata": {},
   "outputs": [],
   "source": [
    "from hmcollab import datasets\n",
    "from hmcollab import articles\n",
    "from hmcollab import transactions\n",
    "from hmcollab import models\n",
    "from hmcollab import splitter"
   ]
  },
  {
   "cell_type": "code",
   "execution_count": 2,
   "id": "2b609d77",
   "metadata": {},
   "outputs": [],
   "source": [
    "from display_data import display_article, display_articles"
   ]
  },
  {
   "cell_type": "code",
   "execution_count": 3,
   "id": "ff88db26",
   "metadata": {},
   "outputs": [
    {
     "name": "stdout",
     "output_type": "stream",
     "text": [
      "Transactions shape:  (252406, 5)\n",
      "Unique customers:  (10899,)\n",
      "Train_x: (247953, 5)\n",
      "Train_y: (2035, 5)\n",
      "Train_vy: (2418, 5)\n",
      "Unique customers train_x:  (10815,)\n",
      "Original relevant set from Target class:  (578, 2)\n"
     ]
    },
    {
     "name": "stderr",
     "output_type": "stream",
     "text": [
      "/Volumes/Xtern/kmo/repos/HM-clothing-project/hmcollab/splitter.py:14: SettingWithCopyWarning: \n",
      "A value is trying to be set on a copy of a slice from a DataFrame.\n",
      "Try using .loc[row_indexer,col_indexer] = value instead\n",
      "\n",
      "See the caveats in the documentation: https://pandas.pydata.org/pandas-docs/stable/user_guide/indexing.html#returning-a-view-versus-a-copy\n",
      "  df[\"t_dat\"] = pd.to_datetime(df[\"t_dat\"].copy(), format=\"%Y-%m-%d\")\n"
     ]
    }
   ],
   "source": [
    "# folds='standard' uses all customers for training and creates validation and test set with the last 2 weeks\n",
    "toy = datasets.HMDataset(toy=True, folds='standard')   \n",
    "print('Transactions shape: ', toy.transactions.shape)\n",
    "print('Unique customers: ',toy.transactions.customer_id.unique().shape)\n",
    "print('Train_x:', toy.train_x.shape) \n",
    "print('Train_y:', toy.train_y.shape) \n",
    "print('Train_vy:', toy.train_vy.shape) \n",
    "print('Unique customers train_x: ',toy.train_x.customer_id.unique().shape)\n",
    "print('Original relevant set from Target class: ',toy.relevant_set.shape)"
   ]
  },
  {
   "cell_type": "code",
   "execution_count": 5,
   "id": "0ac5b0f7",
   "metadata": {},
   "outputs": [],
   "source": [
    "strategy = splitter.SplitByCustomerTrainTestValidationStrategy(\n",
    "    toy, 0.2, 0.2\n",
    ")\n"
   ]
  },
  {
   "cell_type": "code",
   "execution_count": 6,
   "id": "6b9688c8",
   "metadata": {},
   "outputs": [
    {
     "data": {
      "text/plain": [
       "(53564, 5)"
      ]
     },
     "execution_count": 6,
     "metadata": {},
     "output_type": "execute_result"
    }
   ],
   "source": [
    "strategy.validation.transactions.shape"
   ]
  },
  {
   "cell_type": "code",
   "execution_count": 7,
   "id": "40b4e0c7",
   "metadata": {},
   "outputs": [
    {
     "name": "stderr",
     "output_type": "stream",
     "text": [
      "/Volumes/Xtern/kmo/repos/HM-clothing-project/hmcollab/splitter.py:14: SettingWithCopyWarning: \n",
      "A value is trying to be set on a copy of a slice from a DataFrame.\n",
      "Try using .loc[row_indexer,col_indexer] = value instead\n",
      "\n",
      "See the caveats in the documentation: https://pandas.pydata.org/pandas-docs/stable/user_guide/indexing.html#returning-a-view-versus-a-copy\n",
      "  df[\"t_dat\"] = pd.to_datetime(df[\"t_dat\"].copy(), format=\"%Y-%m-%d\")\n",
      "/Volumes/Xtern/kmo/repos/HM-clothing-project/hmcollab/splitter.py:14: SettingWithCopyWarning: \n",
      "A value is trying to be set on a copy of a slice from a DataFrame.\n",
      "Try using .loc[row_indexer,col_indexer] = value instead\n",
      "\n",
      "See the caveats in the documentation: https://pandas.pydata.org/pandas-docs/stable/user_guide/indexing.html#returning-a-view-versus-a-copy\n",
      "  df[\"t_dat\"] = pd.to_datetime(df[\"t_dat\"].copy(), format=\"%Y-%m-%d\")\n"
     ]
    }
   ],
   "source": [
    "validation = splitter.XYStrategy(strategy.validation, 7)"
   ]
  },
  {
   "cell_type": "code",
   "execution_count": 8,
   "id": "314edb73",
   "metadata": {},
   "outputs": [
    {
     "data": {
      "text/plain": [
       "(450, 5)"
      ]
     },
     "execution_count": 8,
     "metadata": {},
     "output_type": "execute_result"
    }
   ],
   "source": [
    "validation.y.transactions.shape"
   ]
  },
  {
   "cell_type": "code",
   "execution_count": 9,
   "id": "2e3d1d16",
   "metadata": {},
   "outputs": [
    {
     "data": {
      "text/plain": [
       "101.71428571428571"
      ]
     },
     "execution_count": 9,
     "metadata": {},
     "output_type": "execute_result"
    }
   ],
   "source": [
    "2 * 356 / 7"
   ]
  },
  {
   "cell_type": "code",
   "execution_count": 10,
   "id": "1cc787ab",
   "metadata": {},
   "outputs": [
    {
     "name": "stderr",
     "output_type": "stream",
     "text": [
      "/Volumes/Xtern/kmo/repos/HM-clothing-project/hmcollab/splitter.py:14: SettingWithCopyWarning: \n",
      "A value is trying to be set on a copy of a slice from a DataFrame.\n",
      "Try using .loc[row_indexer,col_indexer] = value instead\n",
      "\n",
      "See the caveats in the documentation: https://pandas.pydata.org/pandas-docs/stable/user_guide/indexing.html#returning-a-view-versus-a-copy\n",
      "  df[\"t_dat\"] = pd.to_datetime(df[\"t_dat\"].copy(), format=\"%Y-%m-%d\")\n",
      "/Volumes/Xtern/kmo/repos/HM-clothing-project/hmcollab/splitter.py:14: SettingWithCopyWarning: \n",
      "A value is trying to be set on a copy of a slice from a DataFrame.\n",
      "Try using .loc[row_indexer,col_indexer] = value instead\n",
      "\n",
      "See the caveats in the documentation: https://pandas.pydata.org/pandas-docs/stable/user_guide/indexing.html#returning-a-view-versus-a-copy\n",
      "  df[\"t_dat\"] = pd.to_datetime(df[\"t_dat\"].copy(), format=\"%Y-%m-%d\")\n"
     ]
    }
   ],
   "source": [
    "test = splitter.XYStrategy(strategy.test, 7)"
   ]
  },
  {
   "cell_type": "code",
   "execution_count": 11,
   "id": "21699ac4",
   "metadata": {},
   "outputs": [
    {
     "data": {
      "text/plain": [
       "(48733, 5)"
      ]
     },
     "execution_count": 11,
     "metadata": {},
     "output_type": "execute_result"
    }
   ],
   "source": [
    "test.x.transactions.shape"
   ]
  },
  {
   "cell_type": "code",
   "execution_count": 12,
   "id": "4b1cd03d",
   "metadata": {},
   "outputs": [
    {
     "data": {
      "text/plain": [
       "(381, 5)"
      ]
     },
     "execution_count": 12,
     "metadata": {},
     "output_type": "execute_result"
    }
   ],
   "source": [
    "test.y.transactions.shape"
   ]
  },
  {
   "cell_type": "code",
   "execution_count": 13,
   "id": "ad82270c",
   "metadata": {},
   "outputs": [
    {
     "name": "stderr",
     "output_type": "stream",
     "text": [
      "/Volumes/Xtern/kmo/repos/HM-clothing-project/hmcollab/splitter.py:14: SettingWithCopyWarning: \n",
      "A value is trying to be set on a copy of a slice from a DataFrame.\n",
      "Try using .loc[row_indexer,col_indexer] = value instead\n",
      "\n",
      "See the caveats in the documentation: https://pandas.pydata.org/pandas-docs/stable/user_guide/indexing.html#returning-a-view-versus-a-copy\n",
      "  df[\"t_dat\"] = pd.to_datetime(df[\"t_dat\"].copy(), format=\"%Y-%m-%d\")\n",
      "/Volumes/Xtern/kmo/repos/HM-clothing-project/hmcollab/splitter.py:14: SettingWithCopyWarning: \n",
      "A value is trying to be set on a copy of a slice from a DataFrame.\n",
      "Try using .loc[row_indexer,col_indexer] = value instead\n",
      "\n",
      "See the caveats in the documentation: https://pandas.pydata.org/pandas-docs/stable/user_guide/indexing.html#returning-a-view-versus-a-copy\n",
      "  df[\"t_dat\"] = pd.to_datetime(df[\"t_dat\"].copy(), format=\"%Y-%m-%d\")\n"
     ]
    }
   ],
   "source": [
    "train = splitter.XYStrategy(strategy.train, 7)"
   ]
  },
  {
   "cell_type": "code",
   "execution_count": 14,
   "id": "7d20a341",
   "metadata": {},
   "outputs": [
    {
     "data": {
      "text/plain": [
       "(148524, 5)"
      ]
     },
     "execution_count": 14,
     "metadata": {},
     "output_type": "execute_result"
    }
   ],
   "source": [
    "train.x.transactions.shape"
   ]
  },
  {
   "cell_type": "code",
   "execution_count": null,
   "id": "b127889c",
   "metadata": {},
   "outputs": [],
   "source": []
  }
 ],
 "metadata": {
  "kernelspec": {
   "display_name": "Python 3 (ipykernel)",
   "language": "python",
   "name": "python3"
  },
  "language_info": {
   "codemirror_mode": {
    "name": "ipython",
    "version": 3
   },
   "file_extension": ".py",
   "mimetype": "text/x-python",
   "name": "python",
   "nbconvert_exporter": "python",
   "pygments_lexer": "ipython3",
   "version": "3.8.12"
  }
 },
 "nbformat": 4,
 "nbformat_minor": 5
}
