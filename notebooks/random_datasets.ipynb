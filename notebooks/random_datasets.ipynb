{
 "cells": [
  {
   "cell_type": "code",
   "execution_count": 1,
   "metadata": {},
   "outputs": [],
   "source": [
    "import pandas as pd\n",
    "import numpy as np"
   ]
  },
  {
   "cell_type": "markdown",
   "metadata": {},
   "source": [
    "### Articles random dataset"
   ]
  },
  {
   "cell_type": "code",
   "execution_count": 14,
   "metadata": {},
   "outputs": [
    {
     "data": {
      "text/html": [
       "<div>\n",
       "<style scoped>\n",
       "    .dataframe tbody tr th:only-of-type {\n",
       "        vertical-align: middle;\n",
       "    }\n",
       "\n",
       "    .dataframe tbody tr th {\n",
       "        vertical-align: top;\n",
       "    }\n",
       "\n",
       "    .dataframe thead th {\n",
       "        text-align: right;\n",
       "    }\n",
       "</style>\n",
       "<table border=\"1\" class=\"dataframe\">\n",
       "  <thead>\n",
       "    <tr style=\"text-align: right;\">\n",
       "      <th></th>\n",
       "      <th>article_id</th>\n",
       "      <th>color</th>\n",
       "      <th>article</th>\n",
       "    </tr>\n",
       "  </thead>\n",
       "  <tbody>\n",
       "    <tr>\n",
       "      <th>0</th>\n",
       "      <td>00</td>\n",
       "      <td>black</td>\n",
       "      <td>shirt</td>\n",
       "    </tr>\n",
       "    <tr>\n",
       "      <th>1</th>\n",
       "      <td>01</td>\n",
       "      <td>white</td>\n",
       "      <td>shirt</td>\n",
       "    </tr>\n",
       "    <tr>\n",
       "      <th>2</th>\n",
       "      <td>02</td>\n",
       "      <td>black</td>\n",
       "      <td>shoes</td>\n",
       "    </tr>\n",
       "    <tr>\n",
       "      <th>3</th>\n",
       "      <td>03</td>\n",
       "      <td>black</td>\n",
       "      <td>pants</td>\n",
       "    </tr>\n",
       "    <tr>\n",
       "      <th>4</th>\n",
       "      <td>04</td>\n",
       "      <td>black</td>\n",
       "      <td>shoes</td>\n",
       "    </tr>\n",
       "  </tbody>\n",
       "</table>\n",
       "</div>"
      ],
      "text/plain": [
       "  article_id  color article\n",
       "0         00  black   shirt\n",
       "1         01  white   shirt\n",
       "2         02  black   shoes\n",
       "3         03  black   pants\n",
       "4         04  black   shoes"
      ]
     },
     "execution_count": 14,
     "metadata": {},
     "output_type": "execute_result"
    }
   ],
   "source": [
    "def articles_randon_df(n=20):\n",
    "    r = np.random.RandomState(42)\n",
    "    article_id = [\"0\"+str(i) for i in range(n)]\n",
    "    color = [\"black\", \"white\"]\n",
    "    article_color = [color[r.randint(low=0, high=len(color))] for i in range(n)]\n",
    "    article_type = [\"shirt\",\"pants\",\"shoes\"]\n",
    "    article = [article_type[r.randint(low=0, high=len(article_type))] for i in range(n)]\n",
    "    return pd.DataFrame({\"article_id\": article_id, \"color\": article_color, \"article\": article})\n",
    "\n",
    "articles_df = articles_randon_df(n=5)\n",
    "articles_df"
   ]
  },
  {
   "cell_type": "markdown",
   "metadata": {},
   "source": [
    "### Random dates"
   ]
  },
  {
   "cell_type": "code",
   "execution_count": 13,
   "metadata": {},
   "outputs": [
    {
     "data": {
      "text/plain": [
       "['2021-04-15',\n",
       " '2021-04-11',\n",
       " '2021-04-08',\n",
       " '2022-04-26',\n",
       " '2022-04-19',\n",
       " '2022-04-23']"
      ]
     },
     "execution_count": 13,
     "metadata": {},
     "output_type": "execute_result"
    }
   ],
   "source": [
    "def dates_random(n_year=50):\n",
    "    r = np.random.RandomState(42)\n",
    "    years = [2021, 2022]\n",
    "    months = {\"03\":31, \"04\":30}\n",
    "    dates = []\n",
    "    for year in years:\n",
    "        for month, month_max in months.items():\n",
    "            days = r.randint(low=1, high=month_max, size = n_year)\n",
    "            temp = [str(year) + \"-\" + str(month) + \"-0\" + str(day) if day<10  \n",
    "                    else str(year) + \"-\" + str(month) + \"-\" + str(day)      \n",
    "                                for day in days]\n",
    "        dates.extend(temp)\n",
    "    return dates\n",
    "\n",
    "mydates = dates_random(n_year=3)\n",
    "mydates"
   ]
  },
  {
   "cell_type": "code",
   "execution_count": null,
   "metadata": {},
   "outputs": [],
   "source": []
  }
 ],
 "metadata": {
  "kernelspec": {
   "display_name": "hm",
   "language": "python",
   "name": "python3"
  },
  "language_info": {
   "codemirror_mode": {
    "name": "ipython",
    "version": 3
   },
   "file_extension": ".py",
   "mimetype": "text/x-python",
   "name": "python",
   "nbconvert_exporter": "python",
   "pygments_lexer": "ipython3",
   "version": "3.9.16"
  },
  "orig_nbformat": 4
 },
 "nbformat": 4,
 "nbformat_minor": 2
}
