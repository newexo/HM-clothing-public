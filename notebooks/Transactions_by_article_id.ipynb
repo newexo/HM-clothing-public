{
 "cells": [
  {
   "cell_type": "markdown",
   "id": "521e3bd3",
   "metadata": {},
   "source": [
    "## Compute the number of transactions by article_id and find optimal thresholds"
   ]
  },
  {
   "cell_type": "code",
   "execution_count": 12,
   "id": "185696e7",
   "metadata": {},
   "outputs": [],
   "source": [
    "import pandas as pd\n",
    "import matplotlib.pyplot as plt\n",
    "from datetime import datetime"
   ]
  },
  {
   "cell_type": "code",
   "execution_count": 3,
   "id": "8327ae4e",
   "metadata": {},
   "outputs": [],
   "source": [
    "from hmcollab import datasets\n",
    "from hmcollab import articles\n",
    "from hmcollab.directory_tree import HMDatasetDirectoryTree\n",
    "from hmcollab import directories"
   ]
  },
  {
   "cell_type": "markdown",
   "id": "d6c98f99",
   "metadata": {},
   "source": [
    "## Full dataset"
   ]
  },
  {
   "cell_type": "code",
   "execution_count": 19,
   "id": "b324db57",
   "metadata": {},
   "outputs": [
    {
     "name": "stdout",
     "output_type": "stream",
     "text": [
      "Seconds:  79.843405\n",
      "Transactions shape:  (31788324, 5)\n",
      "Articles with transactions:  104547\n",
      "Unique customers:  (1362281,)\n"
     ]
    }
   ],
   "source": [
    "begin = datetime.now()\n",
    "full_tree = HMDatasetDirectoryTree()\n",
    "full = datasets.HMDataset(tree=full_tree, folds=\"threesets\")\n",
    "print('Seconds: ',(datetime.now() - begin).total_seconds())\n",
    "print('Transactions shape: ', full.transactions.shape)\n",
    "print('Articles with transactions: ', full.transactions.article_id.unique().shape[0])\n",
    "print('Unique customers: ', full.transactions.customer_id.unique().shape)"
   ]
  },
  {
   "cell_type": "code",
   "execution_count": 5,
   "id": "7acdb71a",
   "metadata": {},
   "outputs": [
    {
     "name": "stdout",
     "output_type": "stream",
     "text": [
      "Transactions by subset:\n",
      "Train_x: (18857057, 5)\n",
      "Train_y: (147066, 5)\n",
      "Test_x: (6313221, 5)\n",
      "Test_y: (54065, 5)\n",
      "Val_x: (6351682, 5)\n",
      "Val_y: (49250, 5)\n"
     ]
    }
   ],
   "source": [
    "print('Transactions by subset:')\n",
    "print('Train_x:', full.train_x.shape) \n",
    "print('Train_y:', full.train_y.shape) \n",
    "print('Test_x:', full.test_x.shape) \n",
    "print('Test_y:', full.test_y.shape)\n",
    "print('Val_x:', full.val_x.shape)\n",
    "print('Val_y:', full.val_y.shape)"
   ]
  },
  {
   "cell_type": "code",
   "execution_count": 6,
   "id": "091ad505",
   "metadata": {},
   "outputs": [],
   "source": [
    "def frequencies(df, key):\n",
    "    # Compute frequencies for a particular key\n",
    "    # params: key: list\n",
    "    # returns: filtered_article_id: DataFrame sorted descending by frequencies\n",
    "    freqs_df = df.groupby(by=key, as_index=False).size()\n",
    "    freqs_df.reset_index(inplace=True)\n",
    "    freqs_df.drop(columns=['index'], inplace=True)\n",
    "    freqs_df.rename(columns={'size':'frequencies'}, inplace=True)\n",
    "    freqs_df.sort_values(by=['frequencies'], ascending=False, inplace=True)\n",
    "    freqs_df.reset_index(inplace=True)\n",
    "    return freqs_df"
   ]
  },
  {
   "cell_type": "code",
   "execution_count": 7,
   "id": "ba9b362a",
   "metadata": {},
   "outputs": [
    {
     "data": {
      "text/html": [
       "<div>\n",
       "<style scoped>\n",
       "    .dataframe tbody tr th:only-of-type {\n",
       "        vertical-align: middle;\n",
       "    }\n",
       "\n",
       "    .dataframe tbody tr th {\n",
       "        vertical-align: top;\n",
       "    }\n",
       "\n",
       "    .dataframe thead th {\n",
       "        text-align: right;\n",
       "    }\n",
       "</style>\n",
       "<table border=\"1\" class=\"dataframe\">\n",
       "  <thead>\n",
       "    <tr style=\"text-align: right;\">\n",
       "      <th></th>\n",
       "      <th>index</th>\n",
       "      <th>article_id</th>\n",
       "      <th>frequencies</th>\n",
       "    </tr>\n",
       "  </thead>\n",
       "  <tbody>\n",
       "    <tr>\n",
       "      <th>0</th>\n",
       "      <td>53832</td>\n",
       "      <td>0706016001</td>\n",
       "      <td>50287</td>\n",
       "    </tr>\n",
       "    <tr>\n",
       "      <th>1</th>\n",
       "      <td>53833</td>\n",
       "      <td>0706016002</td>\n",
       "      <td>35043</td>\n",
       "    </tr>\n",
       "    <tr>\n",
       "      <th>2</th>\n",
       "      <td>1711</td>\n",
       "      <td>0372860001</td>\n",
       "      <td>31718</td>\n",
       "    </tr>\n",
       "    <tr>\n",
       "      <th>3</th>\n",
       "      <td>24808</td>\n",
       "      <td>0610776002</td>\n",
       "      <td>30199</td>\n",
       "    </tr>\n",
       "    <tr>\n",
       "      <th>4</th>\n",
       "      <td>70124</td>\n",
       "      <td>0759871002</td>\n",
       "      <td>26329</td>\n",
       "    </tr>\n",
       "  </tbody>\n",
       "</table>\n",
       "</div>"
      ],
      "text/plain": [
       "   index  article_id  frequencies\n",
       "0  53832  0706016001        50287\n",
       "1  53833  0706016002        35043\n",
       "2   1711  0372860001        31718\n",
       "3  24808  0610776002        30199\n",
       "4  70124  0759871002        26329"
      ]
     },
     "execution_count": 7,
     "metadata": {},
     "output_type": "execute_result"
    }
   ],
   "source": [
    "full_freqs_by_article_id = frequencies(full.transactions, key=['article_id'])\n",
    "full_freqs_by_article_id.head()"
   ]
  },
  {
   "cell_type": "code",
   "execution_count": 8,
   "id": "a2dc7856",
   "metadata": {},
   "outputs": [
    {
     "data": {
      "text/html": [
       "<div>\n",
       "<style scoped>\n",
       "    .dataframe tbody tr th:only-of-type {\n",
       "        vertical-align: middle;\n",
       "    }\n",
       "\n",
       "    .dataframe tbody tr th {\n",
       "        vertical-align: top;\n",
       "    }\n",
       "\n",
       "    .dataframe thead th {\n",
       "        text-align: right;\n",
       "    }\n",
       "</style>\n",
       "<table border=\"1\" class=\"dataframe\">\n",
       "  <thead>\n",
       "    <tr style=\"text-align: right;\">\n",
       "      <th></th>\n",
       "      <th>index</th>\n",
       "      <th>frequencies</th>\n",
       "    </tr>\n",
       "  </thead>\n",
       "  <tbody>\n",
       "    <tr>\n",
       "      <th>count</th>\n",
       "      <td>104547.000000</td>\n",
       "      <td>104547.000000</td>\n",
       "    </tr>\n",
       "    <tr>\n",
       "      <th>mean</th>\n",
       "      <td>52273.000000</td>\n",
       "      <td>304.057735</td>\n",
       "    </tr>\n",
       "    <tr>\n",
       "      <th>std</th>\n",
       "      <td>30180.263634</td>\n",
       "      <td>791.266060</td>\n",
       "    </tr>\n",
       "    <tr>\n",
       "      <th>min</th>\n",
       "      <td>0.000000</td>\n",
       "      <td>1.000000</td>\n",
       "    </tr>\n",
       "    <tr>\n",
       "      <th>25%</th>\n",
       "      <td>26136.500000</td>\n",
       "      <td>14.000000</td>\n",
       "    </tr>\n",
       "    <tr>\n",
       "      <th>50%</th>\n",
       "      <td>52273.000000</td>\n",
       "      <td>65.000000</td>\n",
       "    </tr>\n",
       "    <tr>\n",
       "      <th>75%</th>\n",
       "      <td>78409.500000</td>\n",
       "      <td>286.000000</td>\n",
       "    </tr>\n",
       "    <tr>\n",
       "      <th>max</th>\n",
       "      <td>104546.000000</td>\n",
       "      <td>50287.000000</td>\n",
       "    </tr>\n",
       "  </tbody>\n",
       "</table>\n",
       "</div>"
      ],
      "text/plain": [
       "               index    frequencies\n",
       "count  104547.000000  104547.000000\n",
       "mean    52273.000000     304.057735\n",
       "std     30180.263634     791.266060\n",
       "min         0.000000       1.000000\n",
       "25%     26136.500000      14.000000\n",
       "50%     52273.000000      65.000000\n",
       "75%     78409.500000     286.000000\n",
       "max    104546.000000   50287.000000"
      ]
     },
     "execution_count": 8,
     "metadata": {},
     "output_type": "execute_result"
    }
   ],
   "source": [
    "full_freqs_by_article_id.describe()   # 75% of the article_ids have less than 286 transactions"
   ]
  },
  {
   "cell_type": "code",
   "execution_count": 9,
   "id": "df0549a4",
   "metadata": {},
   "outputs": [
    {
     "data": {
      "text/plain": [
       "[<matplotlib.lines.Line2D at 0x7fc12dbe37c0>]"
      ]
     },
     "execution_count": 9,
     "metadata": {},
     "output_type": "execute_result"
    },
    {
     "data": {
      "image/png": "[encoded data removed]",
      "text/plain": [
       "<Figure size 640x480 with 1 Axes>"
      ]
     },
     "metadata": {},
     "output_type": "display_data"
    }
   ],
   "source": [
    "plt.plot(full_freqs_by_article_id.frequencies)"
   ]
  },
  {
   "cell_type": "code",
   "execution_count": 10,
   "id": "455ccf1b",
   "metadata": {},
   "outputs": [
    {
     "data": {
      "text/plain": [
       "25312"
      ]
     },
     "execution_count": 10,
     "metadata": {},
     "output_type": "execute_result"
    }
   ],
   "source": [
    "# 25,312 articles with more than 300 transactions\n",
    "full_freqs_by_article_id.loc[full_freqs_by_article_id.frequencies>300].shape[0] "
   ]
  },
  {
   "cell_type": "markdown",
   "id": "ed6cc4d4",
   "metadata": {},
   "source": [
    "## Toy dataset"
   ]
  },
  {
   "cell_type": "code",
   "execution_count": 13,
   "id": "0a599057",
   "metadata": {},
   "outputs": [
    {
     "name": "stdout",
     "output_type": "stream",
     "text": [
      "Seconds:  2.229048\n",
      "Transactions shape:  (630673, 5)\n",
      "Articles with transactions:  62991\n",
      "Unique customers:  (10000,)\n"
     ]
    }
   ],
   "source": [
    "# toy = datasets.HMDataset(toy=True, folds='threesets') \n",
    "begin = datetime.now()\n",
    "toy_tree = HMDatasetDirectoryTree(directories.data(\"toy\"))\n",
    "toy = datasets.HMDataset(tree=toy_tree, folds=\"threesets\")\n",
    "print('Seconds: ',(datetime.now() - begin).total_seconds())\n",
    "print('Transactions shape: ', toy.transactions.shape)\n",
    "print('Articles with transactions: ', toy.transactions.article_id.unique().shape[0])\n",
    "print('Unique customers: ', toy.transactions.customer_id.unique().shape)"
   ]
  },
  {
   "cell_type": "code",
   "execution_count": 14,
   "id": "3160ddc6",
   "metadata": {},
   "outputs": [
    {
     "name": "stdout",
     "output_type": "stream",
     "text": [
      "Transactions by subset:\n",
      "Train_x: (359027, 5)\n",
      "Train_y: (19653, 5)\n",
      "Test_x: (119609, 5)\n",
      "Test_y: (6969, 5)\n",
      "Val_x: (116650, 5)\n",
      "Val_y: (6446, 5)\n"
     ]
    }
   ],
   "source": [
    "print('Transactions by subset:')\n",
    "print('Train_x:', toy.train_x.shape) \n",
    "print('Train_y:', toy.train_y.shape) \n",
    "print('Test_x:', toy.test_x.shape) \n",
    "print('Test_y:', toy.test_y.shape)\n",
    "print('Val_x:', toy.val_x.shape)\n",
    "print('Val_y:', toy.val_y.shape)"
   ]
  },
  {
   "cell_type": "code",
   "execution_count": 15,
   "id": "1ec306c8",
   "metadata": {},
   "outputs": [
    {
     "data": {
      "text/html": [
       "<div>\n",
       "<style scoped>\n",
       "    .dataframe tbody tr th:only-of-type {\n",
       "        vertical-align: middle;\n",
       "    }\n",
       "\n",
       "    .dataframe tbody tr th {\n",
       "        vertical-align: top;\n",
       "    }\n",
       "\n",
       "    .dataframe thead th {\n",
       "        text-align: right;\n",
       "    }\n",
       "</style>\n",
       "<table border=\"1\" class=\"dataframe\">\n",
       "  <thead>\n",
       "    <tr style=\"text-align: right;\">\n",
       "      <th></th>\n",
       "      <th>index</th>\n",
       "      <th>article_id</th>\n",
       "      <th>frequencies</th>\n",
       "    </tr>\n",
       "  </thead>\n",
       "  <tbody>\n",
       "    <tr>\n",
       "      <th>0</th>\n",
       "      <td>28009</td>\n",
       "      <td>0706016001</td>\n",
       "      <td>894</td>\n",
       "    </tr>\n",
       "    <tr>\n",
       "      <th>1</th>\n",
       "      <td>28010</td>\n",
       "      <td>0706016002</td>\n",
       "      <td>609</td>\n",
       "    </tr>\n",
       "    <tr>\n",
       "      <th>2</th>\n",
       "      <td>10941</td>\n",
       "      <td>0610776002</td>\n",
       "      <td>509</td>\n",
       "    </tr>\n",
       "    <tr>\n",
       "      <th>3</th>\n",
       "      <td>39169</td>\n",
       "      <td>0759871002</td>\n",
       "      <td>481</td>\n",
       "    </tr>\n",
       "    <tr>\n",
       "      <th>4</th>\n",
       "      <td>940</td>\n",
       "      <td>0372860001</td>\n",
       "      <td>465</td>\n",
       "    </tr>\n",
       "  </tbody>\n",
       "</table>\n",
       "</div>"
      ],
      "text/plain": [
       "   index  article_id  frequencies\n",
       "0  28009  0706016001          894\n",
       "1  28010  0706016002          609\n",
       "2  10941  0610776002          509\n",
       "3  39169  0759871002          481\n",
       "4    940  0372860001          465"
      ]
     },
     "execution_count": 15,
     "metadata": {},
     "output_type": "execute_result"
    }
   ],
   "source": [
    "toy_freqs_by_article_id = frequencies(toy.transactions, key=['article_id'])\n",
    "toy_freqs_by_article_id.head()"
   ]
  },
  {
   "cell_type": "code",
   "execution_count": 16,
   "id": "d3b068b7",
   "metadata": {},
   "outputs": [
    {
     "data": {
      "text/html": [
       "<div>\n",
       "<style scoped>\n",
       "    .dataframe tbody tr th:only-of-type {\n",
       "        vertical-align: middle;\n",
       "    }\n",
       "\n",
       "    .dataframe tbody tr th {\n",
       "        vertical-align: top;\n",
       "    }\n",
       "\n",
       "    .dataframe thead th {\n",
       "        text-align: right;\n",
       "    }\n",
       "</style>\n",
       "<table border=\"1\" class=\"dataframe\">\n",
       "  <thead>\n",
       "    <tr style=\"text-align: right;\">\n",
       "      <th></th>\n",
       "      <th>index</th>\n",
       "      <th>frequencies</th>\n",
       "    </tr>\n",
       "  </thead>\n",
       "  <tbody>\n",
       "    <tr>\n",
       "      <th>count</th>\n",
       "      <td>62991.00000</td>\n",
       "      <td>62991.000000</td>\n",
       "    </tr>\n",
       "    <tr>\n",
       "      <th>mean</th>\n",
       "      <td>31495.00000</td>\n",
       "      <td>10.012113</td>\n",
       "    </tr>\n",
       "    <tr>\n",
       "      <th>std</th>\n",
       "      <td>18184.07974</td>\n",
       "      <td>17.990400</td>\n",
       "    </tr>\n",
       "    <tr>\n",
       "      <th>min</th>\n",
       "      <td>0.00000</td>\n",
       "      <td>1.000000</td>\n",
       "    </tr>\n",
       "    <tr>\n",
       "      <th>25%</th>\n",
       "      <td>15747.50000</td>\n",
       "      <td>2.000000</td>\n",
       "    </tr>\n",
       "    <tr>\n",
       "      <th>50%</th>\n",
       "      <td>31495.00000</td>\n",
       "      <td>4.000000</td>\n",
       "    </tr>\n",
       "    <tr>\n",
       "      <th>75%</th>\n",
       "      <td>47242.50000</td>\n",
       "      <td>11.000000</td>\n",
       "    </tr>\n",
       "    <tr>\n",
       "      <th>max</th>\n",
       "      <td>62990.00000</td>\n",
       "      <td>894.000000</td>\n",
       "    </tr>\n",
       "  </tbody>\n",
       "</table>\n",
       "</div>"
      ],
      "text/plain": [
       "             index   frequencies\n",
       "count  62991.00000  62991.000000\n",
       "mean   31495.00000     10.012113\n",
       "std    18184.07974     17.990400\n",
       "min        0.00000      1.000000\n",
       "25%    15747.50000      2.000000\n",
       "50%    31495.00000      4.000000\n",
       "75%    47242.50000     11.000000\n",
       "max    62990.00000    894.000000"
      ]
     },
     "execution_count": 16,
     "metadata": {},
     "output_type": "execute_result"
    }
   ],
   "source": [
    "toy_freqs_by_article_id.describe()   # 75% of the article_ids have less than 6 transactions"
   ]
  },
  {
   "cell_type": "code",
   "execution_count": 17,
   "id": "21b13811",
   "metadata": {},
   "outputs": [
    {
     "data": {
      "text/plain": [
       "[<matplotlib.lines.Line2D at 0x7fbf4076d7c0>]"
      ]
     },
     "execution_count": 17,
     "metadata": {},
     "output_type": "execute_result"
    },
    {
     "data": {
      "image/png": "[encoded data removed]",
      "text/plain": [
       "<Figure size 640x480 with 1 Axes>"
      ]
     },
     "metadata": {},
     "output_type": "display_data"
    }
   ],
   "source": [
    "plt.plot(toy_freqs_by_article_id.frequencies)"
   ]
  },
  {
   "cell_type": "code",
   "execution_count": 18,
   "id": "27d81e1c",
   "metadata": {},
   "outputs": [
    {
     "data": {
      "text/plain": [
       "1626"
      ]
     },
     "execution_count": 18,
     "metadata": {},
     "output_type": "execute_result"
    }
   ],
   "source": [
    "# 252 articles with more than 50 transactions\n",
    "toy_freqs_by_article_id.loc[toy_freqs_by_article_id.frequencies>50].shape[0] "
   ]
  }
 ],
 "metadata": {
  "kernelspec": {
   "display_name": "Python 3 (ipykernel)",
   "language": "python",
   "name": "python3"
  },
  "language_info": {
   "codemirror_mode": {
    "name": "ipython",
    "version": 3
   },
   "file_extension": ".py",
   "mimetype": "text/x-python",
   "name": "python",
   "nbconvert_exporter": "python",
   "pygments_lexer": "ipython3",
   "version": "3.9.16"
  }
 },
 "nbformat": 4,
 "nbformat_minor": 5
}
