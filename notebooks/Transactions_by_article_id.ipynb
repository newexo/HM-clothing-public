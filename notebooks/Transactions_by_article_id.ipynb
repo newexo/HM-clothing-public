{
 "cells": [
  {
   "cell_type": "markdown",
   "id": "521e3bd3",
   "metadata": {},
   "source": [
    "## Compute the number of transactions by article_id and find optimal thresholds"
   ]
  },
  {
   "cell_type": "code",
   "execution_count": 1,
   "id": "185696e7",
   "metadata": {},
   "outputs": [],
   "source": [
    "import matplotlib.pyplot as plt\n",
    "from datetime import datetime\n",
    "\n",
    "import warnings\n",
    "warnings.filterwarnings(\"ignore\")"
   ]
  },
  {
   "cell_type": "code",
   "execution_count": 2,
   "id": "8327ae4e",
   "metadata": {},
   "outputs": [],
   "source": [
    "from hmcollab import datasets\n",
    "from hmcollab.directory_tree import HMDatasetDirectoryTree\n",
    "from hmcollab import directories"
   ]
  },
  {
   "cell_type": "markdown",
   "id": "d6c98f99",
   "metadata": {},
   "source": [
    "## Full dataset"
   ]
  },
  {
   "cell_type": "code",
   "execution_count": 3,
   "id": "b324db57",
   "metadata": {},
   "outputs": [
    {
     "name": "stdout",
     "output_type": "stream",
     "text": [
      "Seconds:  70.520278\n",
      "Transactions shape:  (31788324, 5)\n",
      "Articles with transactions:  104547\n",
      "Unique customers:  (1362281,)\n"
     ]
    }
   ],
   "source": [
    "begin = datetime.now()\n",
    "full_tree = HMDatasetDirectoryTree(base=directories.data())\n",
    "full = datasets.HMDatasetThreeSets(tree=full_tree)\n",
    "print('Seconds: ',(datetime.now() - begin).total_seconds())    # 70\n",
    "print('Transactions shape: ', full.transactions.shape)\n",
    "print('Articles with transactions: ', full.transactions.article_id.unique().shape[0])\n",
    "print('Unique customers: ', full.transactions.customer_id.unique().shape)"
   ]
  },
  {
   "cell_type": "code",
   "execution_count": 4,
   "id": "7acdb71a",
   "metadata": {},
   "outputs": [
    {
     "name": "stdout",
     "output_type": "stream",
     "text": [
      "Transactions by subset:\n",
      "Train_x: (18857057, 5)\n",
      "Train_y: (147066, 5)\n",
      "Test_x: (6313221, 5)\n",
      "Test_y: (54065, 5)\n",
      "Val_x: (6351682, 5)\n",
      "Val_y: (49250, 5)\n"
     ]
    }
   ],
   "source": [
    "print('Transactions by subset:')\n",
    "print('Train_x:', full.train_x.shape) \n",
    "print('Train_y:', full.train_y.shape) \n",
    "print('Test_x:', full.test_x.shape) \n",
    "print('Test_y:', full.test_y.shape)\n",
    "print('Val_x:', full.val_x.shape)\n",
    "print('Val_y:', full.val_y.shape)"
   ]
  },
  {
   "cell_type": "code",
   "execution_count": 5,
   "id": "091ad505",
   "metadata": {},
   "outputs": [],
   "source": [
    "def frequencies(df, key):\n",
    "    # Compute frequencies for a particular key\n",
    "    # params: key: list\n",
    "    # returns: filtered_article_id: DataFrame sorted descending by frequencies\n",
    "    freqs_df = df.groupby(by=key, as_index=False).size()\n",
    "    freqs_df.reset_index(inplace=True)\n",
    "    freqs_df.drop(columns=['index'], inplace=True)\n",
    "    freqs_df.rename(columns={'size':'frequencies'}, inplace=True)\n",
    "    freqs_df.sort_values(by=['frequencies'], ascending=False, inplace=True)\n",
    "    freqs_df.reset_index(inplace=True)\n",
    "    return freqs_df"
   ]
  },
  {
   "cell_type": "code",
   "execution_count": 6,
   "id": "ba9b362a",
   "metadata": {},
   "outputs": [
    {
     "data": {
      "text/html": [
       "<div>\n",
       "<style scoped>\n",
       "    .dataframe tbody tr th:only-of-type {\n",
       "        vertical-align: middle;\n",
       "    }\n",
       "\n",
       "    .dataframe tbody tr th {\n",
       "        vertical-align: top;\n",
       "    }\n",
       "\n",
       "    .dataframe thead th {\n",
       "        text-align: right;\n",
       "    }\n",
       "</style>\n",
       "<table border=\"1\" class=\"dataframe\">\n",
       "  <thead>\n",
       "    <tr style=\"text-align: right;\">\n",
       "      <th></th>\n",
       "      <th>index</th>\n",
       "      <th>article_id</th>\n",
       "      <th>frequencies</th>\n",
       "    </tr>\n",
       "  </thead>\n",
       "  <tbody>\n",
       "    <tr>\n",
       "      <th>0</th>\n",
       "      <td>53832</td>\n",
       "      <td>0706016001</td>\n",
       "      <td>50287</td>\n",
       "    </tr>\n",
       "    <tr>\n",
       "      <th>1</th>\n",
       "      <td>53833</td>\n",
       "      <td>0706016002</td>\n",
       "      <td>35043</td>\n",
       "    </tr>\n",
       "    <tr>\n",
       "      <th>2</th>\n",
       "      <td>1711</td>\n",
       "      <td>0372860001</td>\n",
       "      <td>31718</td>\n",
       "    </tr>\n",
       "    <tr>\n",
       "      <th>3</th>\n",
       "      <td>24808</td>\n",
       "      <td>0610776002</td>\n",
       "      <td>30199</td>\n",
       "    </tr>\n",
       "    <tr>\n",
       "      <th>4</th>\n",
       "      <td>70124</td>\n",
       "      <td>0759871002</td>\n",
       "      <td>26329</td>\n",
       "    </tr>\n",
       "  </tbody>\n",
       "</table>\n",
       "</div>"
      ],
      "text/plain": [
       "   index  article_id  frequencies\n",
       "0  53832  0706016001        50287\n",
       "1  53833  0706016002        35043\n",
       "2   1711  0372860001        31718\n",
       "3  24808  0610776002        30199\n",
       "4  70124  0759871002        26329"
      ]
     },
     "execution_count": 6,
     "metadata": {},
     "output_type": "execute_result"
    }
   ],
   "source": [
    "full_freqs_by_article_id = frequencies(full.transactions, key=['article_id'])\n",
    "full_freqs_by_article_id.head()"
   ]
  },
  {
   "cell_type": "code",
   "execution_count": 7,
   "id": "a2dc7856",
   "metadata": {},
   "outputs": [
    {
     "data": {
      "text/html": [
       "<div>\n",
       "<style scoped>\n",
       "    .dataframe tbody tr th:only-of-type {\n",
       "        vertical-align: middle;\n",
       "    }\n",
       "\n",
       "    .dataframe tbody tr th {\n",
       "        vertical-align: top;\n",
       "    }\n",
       "\n",
       "    .dataframe thead th {\n",
       "        text-align: right;\n",
       "    }\n",
       "</style>\n",
       "<table border=\"1\" class=\"dataframe\">\n",
       "  <thead>\n",
       "    <tr style=\"text-align: right;\">\n",
       "      <th></th>\n",
       "      <th>index</th>\n",
       "      <th>frequencies</th>\n",
       "    </tr>\n",
       "  </thead>\n",
       "  <tbody>\n",
       "    <tr>\n",
       "      <th>count</th>\n",
       "      <td>104547.000000</td>\n",
       "      <td>104547.000000</td>\n",
       "    </tr>\n",
       "    <tr>\n",
       "      <th>mean</th>\n",
       "      <td>52273.000000</td>\n",
       "      <td>304.057735</td>\n",
       "    </tr>\n",
       "    <tr>\n",
       "      <th>std</th>\n",
       "      <td>30180.263634</td>\n",
       "      <td>791.266060</td>\n",
       "    </tr>\n",
       "    <tr>\n",
       "      <th>min</th>\n",
       "      <td>0.000000</td>\n",
       "      <td>1.000000</td>\n",
       "    </tr>\n",
       "    <tr>\n",
       "      <th>25%</th>\n",
       "      <td>26136.500000</td>\n",
       "      <td>14.000000</td>\n",
       "    </tr>\n",
       "    <tr>\n",
       "      <th>50%</th>\n",
       "      <td>52273.000000</td>\n",
       "      <td>65.000000</td>\n",
       "    </tr>\n",
       "    <tr>\n",
       "      <th>75%</th>\n",
       "      <td>78409.500000</td>\n",
       "      <td>286.000000</td>\n",
       "    </tr>\n",
       "    <tr>\n",
       "      <th>max</th>\n",
       "      <td>104546.000000</td>\n",
       "      <td>50287.000000</td>\n",
       "    </tr>\n",
       "  </tbody>\n",
       "</table>\n",
       "</div>"
      ],
      "text/plain": [
       "               index    frequencies\n",
       "count  104547.000000  104547.000000\n",
       "mean    52273.000000     304.057735\n",
       "std     30180.263634     791.266060\n",
       "min         0.000000       1.000000\n",
       "25%     26136.500000      14.000000\n",
       "50%     52273.000000      65.000000\n",
       "75%     78409.500000     286.000000\n",
       "max    104546.000000   50287.000000"
      ]
     },
     "execution_count": 7,
     "metadata": {},
     "output_type": "execute_result"
    }
   ],
   "source": [
    "full_freqs_by_article_id.describe()   # 75% of the article_ids have less than 286 transactions"
   ]
  },
  {
   "cell_type": "code",
   "execution_count": 8,
   "id": "df0549a4",
   "metadata": {},
   "outputs": [
    {
     "data": {
      "text/plain": [
       "[<matplotlib.lines.Line2D at 0x7faefc3da9a0>]"
      ]
     },
     "execution_count": 8,
     "metadata": {},
     "output_type": "execute_result"
    },
    {
     "data": {
      "image/png": "[encoded data removed]",
      "text/plain": [
       "<Figure size 640x480 with 1 Axes>"
      ]
     },
     "metadata": {},
     "output_type": "display_data"
    }
   ],
   "source": [
    "plt.plot(full_freqs_by_article_id.frequencies)"
   ]
  },
  {
   "cell_type": "code",
   "execution_count": 9,
   "id": "455ccf1b",
   "metadata": {},
   "outputs": [
    {
     "data": {
      "text/plain": [
       "25312"
      ]
     },
     "execution_count": 9,
     "metadata": {},
     "output_type": "execute_result"
    }
   ],
   "source": [
    "# 25,312 articles with more than 300 transactions\n",
    "full_freqs_by_article_id.loc[full_freqs_by_article_id.frequencies>300].shape[0] "
   ]
  },
  {
   "cell_type": "markdown",
   "id": "ed6cc4d4",
   "metadata": {},
   "source": [
    "## Toy dataset"
   ]
  },
  {
   "cell_type": "code",
   "execution_count": 10,
   "id": "0a599057",
   "metadata": {},
   "outputs": [
    {
     "name": "stdout",
     "output_type": "stream",
     "text": [
      "Seconds:  1.062443\n",
      "Transactions shape:  (252406, 5)\n",
      "Articles with transactions:  47908\n",
      "Unique customers:  (10899,)\n"
     ]
    }
   ],
   "source": [
    "begin = datetime.now()\n",
    "toy_tree = HMDatasetDirectoryTree(base=directories.data(\"toy_orig\")) \n",
    "toy = datasets.HMDatasetThreeSets(tree=toy_tree)\n",
    "print('Seconds: ',(datetime.now() - begin).total_seconds())    # 1\n",
    "\n",
    "print('Transactions shape: ', toy.transactions.shape)\n",
    "print('Articles with transactions: ', toy.transactions.article_id.unique().shape[0])\n",
    "print('Unique customers: ', toy.transactions.customer_id.unique().shape)   # (10899,)"
   ]
  },
  {
   "cell_type": "code",
   "execution_count": 11,
   "id": "3160ddc6",
   "metadata": {},
   "outputs": [
    {
     "name": "stdout",
     "output_type": "stream",
     "text": [
      "Transactions by subset:\n",
      "Train_x: (150018, 5)\n",
      "Train_y: (1111, 5)\n",
      "Test_x: (52393, 5)\n",
      "Test_y: (432, 5)\n",
      "Val_x: (47960, 5)\n",
      "Val_y: (420, 5)\n"
     ]
    }
   ],
   "source": [
    "print('Transactions by subset:')\n",
    "print('Train_x:', toy.train_x.shape) \n",
    "print('Train_y:', toy.train_y.shape) \n",
    "print('Test_x:', toy.test_x.shape) \n",
    "print('Test_y:', toy.test_y.shape)\n",
    "print('Val_x:', toy.val_x.shape)\n",
    "print('Val_y:', toy.val_y.shape)"
   ]
  },
  {
   "cell_type": "code",
   "execution_count": 12,
   "id": "1ec306c8",
   "metadata": {},
   "outputs": [
    {
     "data": {
      "text/html": [
       "<div>\n",
       "<style scoped>\n",
       "    .dataframe tbody tr th:only-of-type {\n",
       "        vertical-align: middle;\n",
       "    }\n",
       "\n",
       "    .dataframe tbody tr th {\n",
       "        vertical-align: top;\n",
       "    }\n",
       "\n",
       "    .dataframe thead th {\n",
       "        text-align: right;\n",
       "    }\n",
       "</style>\n",
       "<table border=\"1\" class=\"dataframe\">\n",
       "  <thead>\n",
       "    <tr style=\"text-align: right;\">\n",
       "      <th></th>\n",
       "      <th>index</th>\n",
       "      <th>article_id</th>\n",
       "      <th>frequencies</th>\n",
       "    </tr>\n",
       "  </thead>\n",
       "  <tbody>\n",
       "    <tr>\n",
       "      <th>0</th>\n",
       "      <td>22066</td>\n",
       "      <td>0706016001</td>\n",
       "      <td>382</td>\n",
       "    </tr>\n",
       "    <tr>\n",
       "      <th>1</th>\n",
       "      <td>22067</td>\n",
       "      <td>0706016002</td>\n",
       "      <td>287</td>\n",
       "    </tr>\n",
       "    <tr>\n",
       "      <th>2</th>\n",
       "      <td>8587</td>\n",
       "      <td>0610776002</td>\n",
       "      <td>255</td>\n",
       "    </tr>\n",
       "    <tr>\n",
       "      <th>3</th>\n",
       "      <td>781</td>\n",
       "      <td>0372860001</td>\n",
       "      <td>252</td>\n",
       "    </tr>\n",
       "    <tr>\n",
       "      <th>4</th>\n",
       "      <td>1650</td>\n",
       "      <td>0464297007</td>\n",
       "      <td>216</td>\n",
       "    </tr>\n",
       "  </tbody>\n",
       "</table>\n",
       "</div>"
      ],
      "text/plain": [
       "   index  article_id  frequencies\n",
       "0  22066  0706016001          382\n",
       "1  22067  0706016002          287\n",
       "2   8587  0610776002          255\n",
       "3    781  0372860001          252\n",
       "4   1650  0464297007          216"
      ]
     },
     "execution_count": 12,
     "metadata": {},
     "output_type": "execute_result"
    }
   ],
   "source": [
    "toy_freqs_by_article_id = frequencies(toy.transactions, key=['article_id'])\n",
    "toy_freqs_by_article_id.head()"
   ]
  },
  {
   "cell_type": "code",
   "execution_count": 13,
   "id": "d3b068b7",
   "metadata": {},
   "outputs": [
    {
     "data": {
      "text/html": [
       "<div>\n",
       "<style scoped>\n",
       "    .dataframe tbody tr th:only-of-type {\n",
       "        vertical-align: middle;\n",
       "    }\n",
       "\n",
       "    .dataframe tbody tr th {\n",
       "        vertical-align: top;\n",
       "    }\n",
       "\n",
       "    .dataframe thead th {\n",
       "        text-align: right;\n",
       "    }\n",
       "</style>\n",
       "<table border=\"1\" class=\"dataframe\">\n",
       "  <thead>\n",
       "    <tr style=\"text-align: right;\">\n",
       "      <th></th>\n",
       "      <th>index</th>\n",
       "      <th>frequencies</th>\n",
       "    </tr>\n",
       "  </thead>\n",
       "  <tbody>\n",
       "    <tr>\n",
       "      <th>count</th>\n",
       "      <td>47908.000000</td>\n",
       "      <td>47908.000000</td>\n",
       "    </tr>\n",
       "    <tr>\n",
       "      <th>mean</th>\n",
       "      <td>23953.500000</td>\n",
       "      <td>5.268556</td>\n",
       "    </tr>\n",
       "    <tr>\n",
       "      <th>std</th>\n",
       "      <td>13829.992685</td>\n",
       "      <td>8.878758</td>\n",
       "    </tr>\n",
       "    <tr>\n",
       "      <th>min</th>\n",
       "      <td>0.000000</td>\n",
       "      <td>1.000000</td>\n",
       "    </tr>\n",
       "    <tr>\n",
       "      <th>25%</th>\n",
       "      <td>11976.750000</td>\n",
       "      <td>1.000000</td>\n",
       "    </tr>\n",
       "    <tr>\n",
       "      <th>50%</th>\n",
       "      <td>23953.500000</td>\n",
       "      <td>3.000000</td>\n",
       "    </tr>\n",
       "    <tr>\n",
       "      <th>75%</th>\n",
       "      <td>35930.250000</td>\n",
       "      <td>6.000000</td>\n",
       "    </tr>\n",
       "    <tr>\n",
       "      <th>max</th>\n",
       "      <td>47907.000000</td>\n",
       "      <td>382.000000</td>\n",
       "    </tr>\n",
       "  </tbody>\n",
       "</table>\n",
       "</div>"
      ],
      "text/plain": [
       "              index   frequencies\n",
       "count  47908.000000  47908.000000\n",
       "mean   23953.500000      5.268556\n",
       "std    13829.992685      8.878758\n",
       "min        0.000000      1.000000\n",
       "25%    11976.750000      1.000000\n",
       "50%    23953.500000      3.000000\n",
       "75%    35930.250000      6.000000\n",
       "max    47907.000000    382.000000"
      ]
     },
     "execution_count": 13,
     "metadata": {},
     "output_type": "execute_result"
    }
   ],
   "source": [
    "toy_freqs_by_article_id.describe()   # 75% of the article_ids have less than 6 transactions"
   ]
  },
  {
   "cell_type": "code",
   "execution_count": 14,
   "id": "21b13811",
   "metadata": {},
   "outputs": [
    {
     "data": {
      "text/plain": [
       "[<matplotlib.lines.Line2D at 0x7faf0e955cd0>]"
      ]
     },
     "execution_count": 14,
     "metadata": {},
     "output_type": "execute_result"
    },
    {
     "data": {
      "image/png": "[encoded data removed]",
      "text/plain": [
       "<Figure size 640x480 with 1 Axes>"
      ]
     },
     "metadata": {},
     "output_type": "display_data"
    }
   ],
   "source": [
    "plt.plot(toy_freqs_by_article_id.frequencies)"
   ]
  },
  {
   "cell_type": "code",
   "execution_count": 15,
   "id": "27d81e1c",
   "metadata": {},
   "outputs": [
    {
     "data": {
      "text/plain": [
       "252"
      ]
     },
     "execution_count": 15,
     "metadata": {},
     "output_type": "execute_result"
    }
   ],
   "source": [
    "# 252 articles with more than 50 transactions\n",
    "toy_freqs_by_article_id.loc[toy_freqs_by_article_id.frequencies>50].shape[0] "
   ]
  },
  {
   "cell_type": "code",
   "execution_count": null,
   "id": "0c6fb3f1",
   "metadata": {},
   "outputs": [],
   "source": []
  }
 ],
 "metadata": {
  "kernelspec": {
   "display_name": "Python 3 (ipykernel)",
   "language": "python",
   "name": "python3"
  },
  "language_info": {
   "codemirror_mode": {
    "name": "ipython",
    "version": 3
   },
   "file_extension": ".py",
   "mimetype": "text/x-python",
   "name": "python",
   "nbconvert_exporter": "python",
   "pygments_lexer": "ipython3",
   "version": "3.9.16"
  }
 },
 "nbformat": 4,
 "nbformat_minor": 5
}
