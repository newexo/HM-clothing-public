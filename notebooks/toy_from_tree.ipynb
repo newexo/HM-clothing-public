{
 "cells": [
  {
   "cell_type": "code",
   "execution_count": 73,
   "metadata": {},
   "outputs": [],
   "source": [
    "from hmcollab import datasets\n",
    "from hmcollab.directory_tree import HMDatasetDirectoryTree\n",
    "from hmcollab import directories\n",
    "from datetime import datetime\n",
    "import warnings\n",
    "warnings.filterwarnings(\"ignore\")"
   ]
  },
  {
   "cell_type": "markdown",
   "metadata": {},
   "source": [
    "There are several versions of the toy dataset. The original had a small fraction of customers with transactions in the last two weeks, while the current one has almost all of the available from the training set."
   ]
  },
  {
   "cell_type": "code",
   "execution_count": 74,
   "metadata": {},
   "outputs": [],
   "source": [
    "# tree = HMDatasetDirectoryTree(base=directories.data(\"toy\"))   # (10000, 7)\n",
    "# tree = HMDatasetDirectoryTree(base=directories.data(\"toy500\"))   # (500, 7)\n",
    "# tree = HMDatasetDirectoryTree(base=directories.data(\"toy1k\"))   # (1000, 7)\n",
    "tree = HMDatasetDirectoryTree(base=directories.data(\"toy_orig\"))     # (10000, 7)"
   ]
  },
  {
   "cell_type": "code",
   "execution_count": 75,
   "metadata": {},
   "outputs": [
    {
     "name": "stdout",
     "output_type": "stream",
     "text": [
      "/Users/gina/Desktop/Gina/MachineLearning/Proyectos/HM/HM-clothing-project/data/toy_orig/transactions_train.csv\n",
      "/Users/gina/Desktop/Gina/MachineLearning/Proyectos/HM/HM-clothing-project/data/toy_orig/articles.csv\n",
      "/Users/gina/Desktop/Gina/MachineLearning/Proyectos/HM/HM-clothing-project/data/toy_orig/customers.csv\n"
     ]
    }
   ],
   "source": [
    "print(tree.transactions)\n",
    "print(tree.articles)\n",
    "print(tree.customers)"
   ]
  },
  {
   "cell_type": "markdown",
   "metadata": {},
   "source": [
    "### Standard setup"
   ]
  },
  {
   "cell_type": "code",
   "execution_count": 76,
   "metadata": {},
   "outputs": [
    {
     "name": "stdout",
     "output_type": "stream",
     "text": [
      "Seconds:  1.149837\n",
      "TRANSACTIONS\n",
      "All transactions:  (252406, 5)\n",
      "transactions_x?:  (250371, 5)\n",
      "train_x (247953, 5)\n",
      "train_vy (2418, 5)\n",
      "transactions_y?:  (2035, 5)\n",
      "train_y (2035, 5)\n",
      "CUSTOMERS\n",
      "All:  (10899,)\n",
      "train_x (10815,)\n",
      "train_vy (655,)\n",
      "train_y (578,)\n",
      "Attribute dict_keys(['tree', 'articles', 'customers', 'transactions', 'transactions_x', 'transactions_y', 'relevant_set', 'train_y', 'train_x', 'train_vy'])\n"
     ]
    }
   ],
   "source": [
    "begin = datetime.now()\n",
    "dataset = datasets.HMDatasetStandard(tree=tree)\n",
    "print('Seconds: ',(datetime.now() - begin).total_seconds())\n",
    "print('TRANSACTIONS')\n",
    "print('All transactions: ', dataset.transactions.shape)   # This shouldn't be accessible\n",
    "print('transactions_x?: ', dataset.transactions_x.shape)\n",
    "print('train_x', dataset.train_x.shape)\n",
    "print('train_vy', dataset.train_vy.shape)\n",
    "print('transactions_y?: ', dataset.transactions_y.shape)   # This shouldn't be accessible\n",
    "print('train_y', dataset.train_y.shape)\n",
    "print('CUSTOMERS')\n",
    "print('All: ', dataset.transactions.customer_id.unique().shape)\n",
    "print('train_x', dataset.train_x.customer_id.unique().shape)\n",
    "print('train_vy', dataset.train_vy.customer_id.unique().shape)\n",
    "print('train_y', dataset.train_y.customer_id.unique().shape)\n",
    "print('Attribute', vars(dataset).keys())"
   ]
  },
  {
   "cell_type": "markdown",
   "metadata": {},
   "source": [
    "Keep only those customers with transaction at train and target:"
   ]
  },
  {
   "cell_type": "code",
   "execution_count": 77,
   "metadata": {},
   "outputs": [
    {
     "name": "stdout",
     "output_type": "stream",
     "text": [
      "customers_at_y:  539\n",
      "customers_at_vy:  607\n"
     ]
    }
   ],
   "source": [
    "# Only keep customers at train_x and train_y\n",
    "train_x_customer_ids_set = set(dataset.train_x.customer_id)\n",
    "customers_at_y = train_x_customer_ids_set.intersection(\n",
    "    set(dataset.train_y.customer_id)\n",
    ")\n",
    "print(\"customers_at_y: \", len(customers_at_y))    # orig=539, new=9160\n",
    "\n",
    "# Only keep customers at train_x and train_vy\n",
    "customers_at_vy = train_x_customer_ids_set.intersection(\n",
    "    set(dataset.train_vy.customer_id)\n",
    ")\n",
    "print(\"customers_at_vy: \", len(customers_at_vy))  # orig=607, new=1980"
   ]
  },
  {
   "cell_type": "markdown",
   "metadata": {},
   "source": [
    "### Three sets: \n",
    "train_x, train_y, val_x, val_y, test_x, test_y"
   ]
  },
  {
   "cell_type": "code",
   "execution_count": 78,
   "metadata": {},
   "outputs": [
    {
     "name": "stdout",
     "output_type": "stream",
     "text": [
      "Seconds:  1.078072\n",
      "\n",
      "CUSTOMERS\n",
      "All:  (10899,)\n",
      "transactions_x?:  (10863,)\n",
      "transactions_y?:  (578,)\n",
      "\n",
      "SET1=train\n",
      "train_x (6518,)\n",
      "train_y (316,)\n",
      "\n",
      "SET2=val\n",
      "val_x (2173,)\n",
      "val_y (107,)\n",
      "\n",
      "SET3=test\n",
      "test_x (2172,)\n",
      "test_y (127,)\n",
      "\n",
      "Attribute dict_keys(['tree', 'articles', 'customers', 'transactions', 'transactions_x', 'transactions_y', 'relevant_set', 'test_x', 'test_y', 'train_x', 'val_x', 'train_y', 'val_y'])\n"
     ]
    }
   ],
   "source": [
    "begin = datetime.now()\n",
    "dataset = datasets.HMDatasetThreeSets(tree=tree)\n",
    "print('Seconds: ',(datetime.now() - begin).total_seconds())\n",
    "print('\\nCUSTOMERS')\n",
    "print('All: ', dataset.transactions.customer_id.unique().shape)\n",
    "print('transactions_x?: ', dataset.transactions_x.customer_id.unique().shape)\n",
    "print('transactions_y?: ', dataset.transactions_y.customer_id.unique().shape)\n",
    "print('\\nSET1=train')\n",
    "print('train_x', dataset.train_x.customer_id.unique().shape)\n",
    "print('train_y', dataset.train_y.customer_id.unique().shape)\n",
    "print('\\nSET2=val')\n",
    "print('val_x', dataset.val_x.customer_id.unique().shape)\n",
    "print('val_y', dataset.val_y.customer_id.unique().shape)\n",
    "print('\\nSET3=test')\n",
    "print('test_x', dataset.test_x.customer_id.unique().shape)\n",
    "print('test_y', dataset.test_y.customer_id.unique().shape)\n",
    "\n",
    "print('\\nAttribute', vars(dataset).keys())"
   ]
  },
  {
   "cell_type": "markdown",
   "metadata": {},
   "source": [
    "Keep only those customers with transaction at train and target:"
   ]
  },
  {
   "cell_type": "code",
   "execution_count": 79,
   "metadata": {},
   "outputs": [
    {
     "name": "stdout",
     "output_type": "stream",
     "text": [
      "customers_at_y for SET1:  316\n",
      "customers at val_y for SET2  107\n",
      "customers at test_y for SET3  119\n"
     ]
    }
   ],
   "source": [
    "# Only keep customers at train_x and train_y\n",
    "train_x_customer_ids_set = set(dataset.train_x.customer_id)\n",
    "customers_at_y = train_x_customer_ids_set.intersection(\n",
    "    set(dataset.train_y.customer_id)\n",
    ")\n",
    "print(\"customers_at_y for SET1: \", len(customers_at_y))    # orig=316, new=5512\n",
    "\n",
    "# Only keep customers at val_x and val_y\n",
    "val_x_customer_ids_set = set(dataset.val_x.customer_id)\n",
    "customers_at_val_y = val_x_customer_ids_set.intersection(\n",
    "    set(dataset.val_y.customer_id)\n",
    ")\n",
    "print(\"customers at val_y for SET2 \", len(customers_at_val_y))  # orig= 107, new=1838\n",
    "\n",
    "\n",
    "# Only keep customers at test_x and test_y\n",
    "test_x_customer_ids_set = set(dataset.test_x.customer_id)\n",
    "customers_at_test_y = test_x_customer_ids_set.intersection(\n",
    "    set(dataset.test_y.customer_id)\n",
    ")\n",
    "print(\"customers at test_y for SET3 \", len(customers_at_test_y))  # orig=119, new=1876"
   ]
  }
 ],
 "metadata": {
  "kernelspec": {
   "display_name": "Python 3 (ipykernel)",
   "language": "python",
   "name": "python3"
  },
  "language_info": {
   "codemirror_mode": {
    "name": "ipython",
    "version": 3
   },
   "file_extension": ".py",
   "mimetype": "text/x-python",
   "name": "python",
   "nbconvert_exporter": "python",
   "pygments_lexer": "ipython3",
   "version": "3.9.16"
  }
 },
 "nbformat": 4,
 "nbformat_minor": 2
}
