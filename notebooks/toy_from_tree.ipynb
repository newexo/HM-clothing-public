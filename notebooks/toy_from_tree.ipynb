{
 "cells": [
  {
   "cell_type": "code",
   "execution_count": 1,
   "metadata": {},
   "outputs": [],
   "source": [
    "from hmcollab import datasets\n",
    "from hmcollab.directory_tree import HMDatasetDirectoryTree\n",
    "from hmcollab import directories\n",
    "import pandas as pd\n",
    "from datetime import datetime, timedelta\n",
    "import warnings\n",
    "warnings.filterwarnings(\"ignore\")"
   ]
  },
  {
   "cell_type": "code",
   "execution_count": 16,
   "metadata": {},
   "outputs": [],
   "source": [
    "tree = HMDatasetDirectoryTree(base=directories.data(\"toy\"))   # (10000, 7)\n",
    "# tree = HMDatasetDirectoryTree(base=directories.data(\"toy_orig\"))     # (10000, 7)"
   ]
  },
  {
   "cell_type": "code",
   "execution_count": 20,
   "metadata": {},
   "outputs": [
    {
     "name": "stdout",
     "output_type": "stream",
     "text": [
      "Toy customers length: (10000, 7)\n"
     ]
    }
   ],
   "source": [
    "dataset = datasets.HMDatasetThreeSets(tree=tree)\n",
    "print('Toy customers length:', dataset.customers.shape)"
   ]
  },
  {
   "cell_type": "code",
   "execution_count": 21,
   "metadata": {},
   "outputs": [
    {
     "name": "stdout",
     "output_type": "stream",
     "text": [
      "customers_at_y:  316\n",
      "customers_at_vy:  107\n",
      "customers_at_ty:  119\n"
     ]
    }
   ],
   "source": [
    "\n",
    "# Only keep customers at train_x and train_y\n",
    "train_x_customer_ids_set = set(dataset.train_x.customer_id)\n",
    "customers_at_y = train_x_customer_ids_set.intersection(\n",
    "    set(dataset.train_y.customer_id)\n",
    ")\n",
    "print(\"customers_at_y: \", len(customers_at_y))    #orig: 316, new: 5512\n",
    "# Only keep customers at val_x and val_y\n",
    "val_x_customer_ids_set = set(dataset.val_x.customer_id)\n",
    "customers_at_vy = val_x_customer_ids_set.intersection(\n",
    "    set(dataset.val_y.customer_id)\n",
    ")\n",
    "print(\"customers_at_vy: \", len(customers_at_vy))   # orig: 107, new: 1838\n",
    "    # Only keep customers at test_x and test_y\n",
    "test_x_customer_ids_set = set(dataset.test_x.customer_id)\n",
    "customers_at_ty = test_x_customer_ids_set.intersection(\n",
    "    set(dataset.test_y.customer_id)\n",
    ")\n",
    "customers_at_ty = test_x_customer_ids_set.intersection(\n",
    "        set(dataset.test_y.customer_id)\n",
    ") \n",
    "print(\"customers_at_ty: \", len(customers_at_ty))   # orig: 119, new:  1876\n"
   ]
  },
  {
   "cell_type": "code",
   "execution_count": 22,
   "metadata": {},
   "outputs": [
    {
     "data": {
      "text/plain": [
       "count                  150018\n",
       "unique                    726\n",
       "top       2019-09-28 00:00:00\n",
       "freq                      973\n",
       "first     2018-09-20 00:00:00\n",
       "last      2020-09-14 00:00:00\n",
       "Name: t_dat, dtype: object"
      ]
     },
     "execution_count": 22,
     "metadata": {},
     "output_type": "execute_result"
    }
   ],
   "source": [
    "dataset.train_x.t_dat.describe()"
   ]
  },
  {
   "cell_type": "code",
   "execution_count": 23,
   "metadata": {},
   "outputs": [
    {
     "data": {
      "text/plain": [
       "array(['2020-09-15T00:00:00.000000000', '2020-09-16T00:00:00.000000000',\n",
       "       '2020-09-17T00:00:00.000000000', '2020-09-18T00:00:00.000000000',\n",
       "       '2020-09-19T00:00:00.000000000', '2020-09-20T00:00:00.000000000',\n",
       "       '2020-09-21T00:00:00.000000000', '2020-09-22T00:00:00.000000000'],\n",
       "      dtype='datetime64[ns]')"
      ]
     },
     "execution_count": 23,
     "metadata": {},
     "output_type": "execute_result"
    }
   ],
   "source": [
    "dataset.train_y.t_dat.unique()"
   ]
  },
  {
   "cell_type": "code",
   "execution_count": 3,
   "metadata": {},
   "outputs": [
    {
     "data": {
      "text/plain": [
       "'/Users/gina/Desktop/Gina/MachineLearning/Proyectos/HM/HM-clothing-project/data/toy/articles.csv'"
      ]
     },
     "execution_count": 3,
     "metadata": {},
     "output_type": "execute_result"
    }
   ],
   "source": [
    "tree.articles"
   ]
  },
  {
   "cell_type": "code",
   "execution_count": 4,
   "metadata": {},
   "outputs": [
    {
     "data": {
      "text/plain": [
       "'/Users/kmo/repos/HM-clothing-project/data/toy/transactions_train.csv'"
      ]
     },
     "execution_count": 4,
     "metadata": {},
     "output_type": "execute_result"
    }
   ],
   "source": [
    "tree.transactions"
   ]
  },
  {
   "cell_type": "code",
   "execution_count": 5,
   "metadata": {},
   "outputs": [
    {
     "data": {
      "text/plain": [
       "'/Users/kmo/repos/HM-clothing-project/data/toy/customers.csv'"
      ]
     },
     "execution_count": 5,
     "metadata": {},
     "output_type": "execute_result"
    }
   ],
   "source": [
    "tree.customers"
   ]
  },
  {
   "cell_type": "code",
   "execution_count": null,
   "metadata": {},
   "outputs": [],
   "source": []
  },
  {
   "cell_type": "code",
   "execution_count": 2,
   "metadata": {},
   "outputs": [
    {
     "name": "stdout",
     "output_type": "stream",
     "text": [
      "Seconds:  5.239785\n",
      "Transactions shape:  (630673, 5)\n",
      "Unique customers:  (10000,)\n"
     ]
    }
   ],
   "source": [
    "# begin = datetime.now()\n",
    "# toy3 = datasets.HMDataset(toy=True, toy_local=False, folds=\"threesets\")\n",
    "# print('Seconds: ',(datetime.now() - begin).total_seconds())\n",
    "# print('Transactions shape: ', toy3.transactions.shape)\n",
    "# print('Unique customers: ',toy3.transactions.customer_id.unique().shape)"
   ]
  },
  {
   "cell_type": "markdown",
   "metadata": {},
   "source": [
    "## Loading the full toy with toy option loads the full articles and customers"
   ]
  },
  {
   "cell_type": "code",
   "execution_count": 6,
   "metadata": {},
   "outputs": [
    {
     "name": "stdout",
     "output_type": "stream",
     "text": [
      "Seconds:  4.760288\n",
      "Transactions shape:  (252406, 5)\n",
      "Unique customers:  (10899,)\n"
     ]
    }
   ],
   "source": [
    "begin = datetime.now()\n",
    "toy0 = datasets.HMDataset(toy=True, folds=\"threesets\")\n",
    "print('Seconds: ',(datetime.now() - begin).total_seconds())\n",
    "print('Transactions shape: ', toy0.transactions.shape)\n",
    "print('Unique customers: ', toy0.transactions.customer_id.unique().shape)"
   ]
  },
  {
   "cell_type": "markdown",
   "metadata": {},
   "source": [
    "## Using the toy tree loads pruned versions of articles and customers"
   ]
  },
  {
   "cell_type": "code",
   "execution_count": 7,
   "metadata": {},
   "outputs": [
    {
     "name": "stdout",
     "output_type": "stream",
     "text": [
      "Seconds:  2.498398\n",
      "Transactions shape:  (630673, 5)\n",
      "Unique customers:  (10000,)\n"
     ]
    }
   ],
   "source": [
    "begin = datetime.now()\n",
    "toy1 = datasets.HMDataset(tree=tree, folds=\"threesets\")\n",
    "print('Seconds: ',(datetime.now() - begin).total_seconds())\n",
    "print('Transactions shape: ', toy1.transactions.shape)\n",
    "print('Unique customers: ',toy1.transactions.customer_id.unique().shape)"
   ]
  },
  {
   "cell_type": "code",
   "execution_count": null,
   "metadata": {},
   "outputs": [],
   "source": []
  }
 ],
 "metadata": {
  "kernelspec": {
   "display_name": "Python 3 (ipykernel)",
   "language": "python",
   "name": "python3"
  },
  "language_info": {
   "codemirror_mode": {
    "name": "ipython",
    "version": 3
   },
   "file_extension": ".py",
   "mimetype": "text/x-python",
   "name": "python",
   "nbconvert_exporter": "python",
   "pygments_lexer": "ipython3",
   "version": "3.9.16"
  }
 },
 "nbformat": 4,
 "nbformat_minor": 2
}
