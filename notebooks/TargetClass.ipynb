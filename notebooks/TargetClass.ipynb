{
 "cells": [
  {
   "cell_type": "markdown",
   "id": "1d97db36",
   "metadata": {},
   "source": [
    "Updated: Jun18th, 2022"
   ]
  },
  {
   "cell_type": "code",
   "execution_count": 1,
   "id": "6196823c",
   "metadata": {},
   "outputs": [],
   "source": [
    "from hmcollab import datasets\n",
    "from hmcollab import transactions"
   ]
  },
  {
   "cell_type": "code",
   "execution_count": 2,
   "id": "5d8b336f",
   "metadata": {},
   "outputs": [],
   "source": [
    "import pandas as pd\n",
    "from datetime import datetime, timedelta\n",
    "import warnings\n",
    "warnings.filterwarnings(\"ignore\")"
   ]
  },
  {
   "cell_type": "markdown",
   "id": "d97730c3",
   "metadata": {},
   "source": [
    "## Aim\n",
    "Create a target set with the transactions from the last 7 days organized by customer. We would like to have the same format as the one required by the Kaggle competition for the outputs. The idea is to use this dataset (relevant_set) to find those results that are relevant for the scoring functions (MAP@K etc)"
   ]
  },
  {
   "cell_type": "markdown",
   "id": "801f763c",
   "metadata": {},
   "source": [
    "### Let's use our toy dataset to get an idea of the time to run it"
   ]
  },
  {
   "cell_type": "code",
   "execution_count": 4,
   "id": "6f06a4a3",
   "metadata": {},
   "outputs": [
    {
     "name": "stdout",
     "output_type": "stream",
     "text": [
      "Seconds:  3.817961\n",
      "Transactions shape:  (252406, 5)\n",
      "Unique customers:  (10899,)\n"
     ]
    }
   ],
   "source": [
    "begin = datetime.now()\n",
    "toy = datasets.HMDataset(toy=True)\n",
    "print('Seconds: ',(datetime.now() - begin).total_seconds())\n",
    "print('Transactions shape: ', toy.transactions.shape)\n",
    "print('Unique customers: ',toy.transactions.customer_id.unique().shape)"
   ]
  },
  {
   "cell_type": "code",
   "execution_count": 6,
   "id": "98c7daa3",
   "metadata": {},
   "outputs": [
    {
     "name": "stdout",
     "output_type": "stream",
     "text": [
      "train_x shape:  (197978, 5)\n",
      "train_y shape:  (1603, 5)\n",
      "test_x shape:  (52393, 5)\n",
      "test_y shape:  (432, 5)\n"
     ]
    }
   ],
   "source": [
    "print('train_x shape: ', toy.train_x.shape)\n",
    "print('train_y shape: ', toy.train_y.shape)\n",
    "print('test_x shape: ', toy.test_x.shape)\n",
    "print('test_y shape: ', toy.test_y.shape)"
   ]
  },
  {
   "cell_type": "markdown",
   "id": "bd12b7c1",
   "metadata": {},
   "source": [
    "### Old class to create the target (transactions from the last 7 days)\n",
    "This class retakes the feature transactions_x and transactions_y that we had in the past, and adds an attribute called relevant_set. This method was very slow to use with the full dataset"
   ]
  },
  {
   "cell_type": "code",
   "execution_count": 13,
   "id": "28e58dbb",
   "metadata": {},
   "outputs": [
    {
     "name": "stdout",
     "output_type": "stream",
     "text": [
      "0.377086\n"
     ]
    }
   ],
   "source": [
    "begin = datetime.now()\n",
    "toy_slow = datasets.TargetSlow(toy.transactions)\n",
    "print((datetime.now() - begin).total_seconds())"
   ]
  },
  {
   "cell_type": "code",
   "execution_count": 14,
   "id": "f0b12ebf",
   "metadata": {},
   "outputs": [
    {
     "name": "stdout",
     "output_type": "stream",
     "text": [
      "x:  (250371, 5)\n",
      "y:  (2035, 5)\n",
      "Relevant:  (578, 2)\n"
     ]
    }
   ],
   "source": [
    "print('x: ', toy_slow.transactions_x.shape)\n",
    "print('y: ', toy_slow.transactions_y.shape)\n",
    "print('Relevant: ', toy_slow.relevant_set.shape)"
   ]
  },
  {
   "cell_type": "code",
   "execution_count": 15,
   "id": "4db2b509",
   "metadata": {},
   "outputs": [
    {
     "data": {
      "text/html": [
       "<div>\n",
       "<style scoped>\n",
       "    .dataframe tbody tr th:only-of-type {\n",
       "        vertical-align: middle;\n",
       "    }\n",
       "\n",
       "    .dataframe tbody tr th {\n",
       "        vertical-align: top;\n",
       "    }\n",
       "\n",
       "    .dataframe thead th {\n",
       "        text-align: right;\n",
       "    }\n",
       "</style>\n",
       "<table border=\"1\" class=\"dataframe\">\n",
       "  <thead>\n",
       "    <tr style=\"text-align: right;\">\n",
       "      <th></th>\n",
       "      <th>customer_id</th>\n",
       "      <th>target</th>\n",
       "    </tr>\n",
       "  </thead>\n",
       "  <tbody>\n",
       "    <tr>\n",
       "      <th>0</th>\n",
       "      <td>00fb0bee7b78e16bd37587e47a124f86e2aad252a34bb1...</td>\n",
       "      <td>0860285001 0909371001</td>\n",
       "    </tr>\n",
       "    <tr>\n",
       "      <th>1</th>\n",
       "      <td>02c67868a2a3f83eaf229ae3dac2373d77e5bf451b1a40...</td>\n",
       "      <td>0905945001</td>\n",
       "    </tr>\n",
       "    <tr>\n",
       "      <th>2</th>\n",
       "      <td>095c3fb8eb6a606a9e58b31402dc9ffd72c2736e5bfc69...</td>\n",
       "      <td>0456163060 0865921001 0708485003 0886390002 07...</td>\n",
       "    </tr>\n",
       "    <tr>\n",
       "      <th>3</th>\n",
       "      <td>0aad6bcfe77f2dcfe74a280df77fc37cb3731b85cb5207...</td>\n",
       "      <td>0907957001 0827968002 0923340001 0867966009 08...</td>\n",
       "    </tr>\n",
       "    <tr>\n",
       "      <th>4</th>\n",
       "      <td>1d07c4f4067165e9297fde4e788889e15215c400ccc1a0...</td>\n",
       "      <td>0693246007 0524529004</td>\n",
       "    </tr>\n",
       "  </tbody>\n",
       "</table>\n",
       "</div>"
      ],
      "text/plain": [
       "                                         customer_id  \\\n",
       "0  00fb0bee7b78e16bd37587e47a124f86e2aad252a34bb1...   \n",
       "1  02c67868a2a3f83eaf229ae3dac2373d77e5bf451b1a40...   \n",
       "2  095c3fb8eb6a606a9e58b31402dc9ffd72c2736e5bfc69...   \n",
       "3  0aad6bcfe77f2dcfe74a280df77fc37cb3731b85cb5207...   \n",
       "4  1d07c4f4067165e9297fde4e788889e15215c400ccc1a0...   \n",
       "\n",
       "                                              target  \n",
       "0                              0860285001 0909371001  \n",
       "1                                         0905945001  \n",
       "2  0456163060 0865921001 0708485003 0886390002 07...  \n",
       "3  0907957001 0827968002 0923340001 0867966009 08...  \n",
       "4                              0693246007 0524529004  "
      ]
     },
     "execution_count": 15,
     "metadata": {},
     "output_type": "execute_result"
    }
   ],
   "source": [
    "toy_slow.relevant_set.head()"
   ]
  },
  {
   "cell_type": "markdown",
   "id": "fdb696c2",
   "metadata": {},
   "source": [
    "### This is the new and improved class to generate the relevant_set"
   ]
  },
  {
   "cell_type": "code",
   "execution_count": 16,
   "id": "f2f9c813",
   "metadata": {},
   "outputs": [
    {
     "name": "stdout",
     "output_type": "stream",
     "text": [
      "0.06895\n"
     ]
    }
   ],
   "source": [
    "\n",
    "begin = datetime.now()\n",
    "toy_faster = datasets.Target(toy.transactions)\n",
    "print((datetime.now() - begin).total_seconds())"
   ]
  },
  {
   "cell_type": "code",
   "execution_count": 17,
   "id": "1de7a471",
   "metadata": {},
   "outputs": [
    {
     "name": "stdout",
     "output_type": "stream",
     "text": [
      "x:  (250371, 5)\n",
      "y:  (2035, 5)\n",
      "Relevant:  (578, 2)\n"
     ]
    }
   ],
   "source": [
    "print('x: ', toy_faster.transactions_x.shape)\n",
    "print('y: ', toy_faster.transactions_y.shape)\n",
    "print('Relevant: ', toy_faster.relevant_set.shape)"
   ]
  },
  {
   "cell_type": "code",
   "execution_count": 18,
   "id": "641a4640",
   "metadata": {},
   "outputs": [
    {
     "data": {
      "text/html": [
       "<div>\n",
       "<style scoped>\n",
       "    .dataframe tbody tr th:only-of-type {\n",
       "        vertical-align: middle;\n",
       "    }\n",
       "\n",
       "    .dataframe tbody tr th {\n",
       "        vertical-align: top;\n",
       "    }\n",
       "\n",
       "    .dataframe thead th {\n",
       "        text-align: right;\n",
       "    }\n",
       "</style>\n",
       "<table border=\"1\" class=\"dataframe\">\n",
       "  <thead>\n",
       "    <tr style=\"text-align: right;\">\n",
       "      <th></th>\n",
       "      <th>customer_id</th>\n",
       "      <th>target</th>\n",
       "    </tr>\n",
       "  </thead>\n",
       "  <tbody>\n",
       "    <tr>\n",
       "      <th>0</th>\n",
       "      <td>004a51b9de9d21672dcb80ff5b76928b83e0865f614c7a...</td>\n",
       "      <td>0794575005 0924243001 0865799006</td>\n",
       "    </tr>\n",
       "    <tr>\n",
       "      <th>1</th>\n",
       "      <td>00fb0bee7b78e16bd37587e47a124f86e2aad252a34bb1...</td>\n",
       "      <td>0860285001 0909371001</td>\n",
       "    </tr>\n",
       "    <tr>\n",
       "      <th>2</th>\n",
       "      <td>010443087c1ea6f77578cde8b49751573175ef048e2896...</td>\n",
       "      <td>0831384003 0876125002 0871517008 0831384003 08...</td>\n",
       "    </tr>\n",
       "    <tr>\n",
       "      <th>3</th>\n",
       "      <td>010f87b59415ddb7e3dcb8228476028420aacd77ec42c8...</td>\n",
       "      <td>0921090003 0854020001 0759871034 0860336001</td>\n",
       "    </tr>\n",
       "    <tr>\n",
       "      <th>4</th>\n",
       "      <td>01adb64dfbae7ceca59fe2252906784573b45e5893ff4a...</td>\n",
       "      <td>0909014001</td>\n",
       "    </tr>\n",
       "  </tbody>\n",
       "</table>\n",
       "</div>"
      ],
      "text/plain": [
       "                                         customer_id  \\\n",
       "0  004a51b9de9d21672dcb80ff5b76928b83e0865f614c7a...   \n",
       "1  00fb0bee7b78e16bd37587e47a124f86e2aad252a34bb1...   \n",
       "2  010443087c1ea6f77578cde8b49751573175ef048e2896...   \n",
       "3  010f87b59415ddb7e3dcb8228476028420aacd77ec42c8...   \n",
       "4  01adb64dfbae7ceca59fe2252906784573b45e5893ff4a...   \n",
       "\n",
       "                                              target  \n",
       "0                   0794575005 0924243001 0865799006  \n",
       "1                              0860285001 0909371001  \n",
       "2  0831384003 0876125002 0871517008 0831384003 08...  \n",
       "3        0921090003 0854020001 0759871034 0860336001  \n",
       "4                                         0909014001  "
      ]
     },
     "execution_count": 18,
     "metadata": {},
     "output_type": "execute_result"
    }
   ],
   "source": [
    "toy_faster.relevant_set.head()"
   ]
  },
  {
   "cell_type": "code",
   "execution_count": 19,
   "id": "cf1c7ec5",
   "metadata": {},
   "outputs": [],
   "source": [
    "# toy_faster.relevant_set.to_csv('../data/toy_relevant_set.csv', index=False)"
   ]
  },
  {
   "cell_type": "code",
   "execution_count": null,
   "id": "2d82ac34",
   "metadata": {},
   "outputs": [],
   "source": []
  }
 ],
 "metadata": {
  "kernelspec": {
   "display_name": "Python 3 (ipykernel)",
   "language": "python",
   "name": "python3"
  },
  "language_info": {
   "codemirror_mode": {
    "name": "ipython",
    "version": 3
   },
   "file_extension": ".py",
   "mimetype": "text/x-python",
   "name": "python",
   "nbconvert_exporter": "python",
   "pygments_lexer": "ipython3",
   "version": "3.10.2"
  }
 },
 "nbformat": 4,
 "nbformat_minor": 5
}
