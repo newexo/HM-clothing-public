{
 "cells": [
  {
   "cell_type": "markdown",
   "id": "1d97db36",
   "metadata": {},
   "source": [
    "Updated: Sep7th, 2022. Removed content related to subsets (train_x, etc) that could break the notebook when modified"
   ]
  },
  {
   "cell_type": "code",
   "execution_count": 1,
   "id": "6196823c",
   "metadata": {},
   "outputs": [],
   "source": [
    "from hmcollab import datasets\n",
    "from hmcollab import transactions\n",
    "from hmcollab.directory_tree import HMDatasetDirectoryTree\n",
    "from hmcollab import directories"
   ]
  },
  {
   "cell_type": "code",
   "execution_count": 2,
   "id": "5d8b336f",
   "metadata": {},
   "outputs": [],
   "source": [
    "import pandas as pd\n",
    "from datetime import datetime, timedelta\n",
    "import warnings\n",
    "warnings.filterwarnings(\"ignore\")"
   ]
  },
  {
   "cell_type": "markdown",
   "id": "d97730c3",
   "metadata": {},
   "source": [
    "## Aim\n",
    "Create a target set with the transactions from the last 7 days organized by customer. We would like to have the same format as the one required by the Kaggle competition for the outputs. The idea is to use this dataset (relevant_set) to find those results that are relevant for the scoring functions (MAP@K etc)"
   ]
  },
  {
   "cell_type": "markdown",
   "id": "801f763c",
   "metadata": {},
   "source": [
    "### Let's use our toy dataset to get an idea of the time to run it"
   ]
  },
  {
   "cell_type": "code",
   "execution_count": 3,
   "id": "6f06a4a3",
   "metadata": {},
   "outputs": [
    {
     "name": "stdout",
     "output_type": "stream",
     "text": [
      "Seconds:  2.061222\n",
      "Transactions shape:  (630673, 5)\n",
      "Unique customers:  (10000,)\n"
     ]
    }
   ],
   "source": [
    "begin = datetime.now()\n",
    "# toy = datasets.HMDataset(toy=True)\n",
    "toy_tree = HMDatasetDirectoryTree(directories.data(\"toy\"))\n",
    "toy = datasets.HMDataset(tree=toy_tree, folds=\"twosets\")\n",
    "print('Seconds: ',(datetime.now() - begin).total_seconds())\n",
    "print('Transactions shape: ', toy.transactions.shape)\n",
    "print('Unique customers: ',toy.transactions.customer_id.unique().shape)"
   ]
  },
  {
   "cell_type": "markdown",
   "id": "fdb696c2",
   "metadata": {},
   "source": [
    "### This is the new and improved class to generate the relevant_set"
   ]
  },
  {
   "cell_type": "code",
   "execution_count": 4,
   "id": "f2f9c813",
   "metadata": {},
   "outputs": [
    {
     "name": "stdout",
     "output_type": "stream",
     "text": [
      "0.616594\n"
     ]
    }
   ],
   "source": [
    "\n",
    "begin = datetime.now()\n",
    "toy_faster = datasets.Target(toy.transactions)\n",
    "print((datetime.now() - begin).total_seconds())"
   ]
  },
  {
   "cell_type": "code",
   "execution_count": 5,
   "id": "1de7a471",
   "metadata": {},
   "outputs": [
    {
     "name": "stdout",
     "output_type": "stream",
     "text": [
      "x:  (595286, 5)\n",
      "y:  (35387, 5)\n",
      "Relevant:  (10000, 2)\n"
     ]
    }
   ],
   "source": [
    "print('x: ', toy_faster.transactions_x.shape)\n",
    "print('y: ', toy_faster.transactions_y.shape)\n",
    "print('Relevant: ', toy_faster.relevant_set.shape)"
   ]
  },
  {
   "cell_type": "code",
   "execution_count": 6,
   "id": "641a4640",
   "metadata": {},
   "outputs": [
    {
     "data": {
      "text/html": [
       "<div>\n",
       "<style scoped>\n",
       "    .dataframe tbody tr th:only-of-type {\n",
       "        vertical-align: middle;\n",
       "    }\n",
       "\n",
       "    .dataframe tbody tr th {\n",
       "        vertical-align: top;\n",
       "    }\n",
       "\n",
       "    .dataframe thead th {\n",
       "        text-align: right;\n",
       "    }\n",
       "</style>\n",
       "<table border=\"1\" class=\"dataframe\">\n",
       "  <thead>\n",
       "    <tr style=\"text-align: right;\">\n",
       "      <th></th>\n",
       "      <th>customer_id</th>\n",
       "      <th>target</th>\n",
       "    </tr>\n",
       "  </thead>\n",
       "  <tbody>\n",
       "    <tr>\n",
       "      <th>0</th>\n",
       "      <td>00077dbd5c4a4991e092e63893ccf29294a9d5c46e8501...</td>\n",
       "      <td>0903762001 0879189005 0158340001 0867966009 09...</td>\n",
       "    </tr>\n",
       "    <tr>\n",
       "      <th>1</th>\n",
       "      <td>002253f0e3869ca2833ca2dfec4f8995ad9cdf8ca2333a...</td>\n",
       "      <td>0429313002 0464297031 0829618004 0884668002</td>\n",
       "    </tr>\n",
       "    <tr>\n",
       "      <th>2</th>\n",
       "      <td>00282135561702f5b3b750fa3382d8fd83ce5d761a507e...</td>\n",
       "      <td>0855249006 0822171001</td>\n",
       "    </tr>\n",
       "    <tr>\n",
       "      <th>3</th>\n",
       "      <td>00356af493f63b3d5c800d66e5ea35e255e3e602c12ec6...</td>\n",
       "      <td>0909721002 0912204001 0893352002</td>\n",
       "    </tr>\n",
       "    <tr>\n",
       "      <th>4</th>\n",
       "      <td>003ca8034fe32b9bab8e1c03d74c972abd80dccf84a302...</td>\n",
       "      <td>0895376004 0873771001 0926285002 0903049003 07...</td>\n",
       "    </tr>\n",
       "  </tbody>\n",
       "</table>\n",
       "</div>"
      ],
      "text/plain": [
       "                                         customer_id  \\\n",
       "0  00077dbd5c4a4991e092e63893ccf29294a9d5c46e8501...   \n",
       "1  002253f0e3869ca2833ca2dfec4f8995ad9cdf8ca2333a...   \n",
       "2  00282135561702f5b3b750fa3382d8fd83ce5d761a507e...   \n",
       "3  00356af493f63b3d5c800d66e5ea35e255e3e602c12ec6...   \n",
       "4  003ca8034fe32b9bab8e1c03d74c972abd80dccf84a302...   \n",
       "\n",
       "                                              target  \n",
       "0  0903762001 0879189005 0158340001 0867966009 09...  \n",
       "1        0429313002 0464297031 0829618004 0884668002  \n",
       "2                              0855249006 0822171001  \n",
       "3                   0909721002 0912204001 0893352002  \n",
       "4  0895376004 0873771001 0926285002 0903049003 07...  "
      ]
     },
     "execution_count": 6,
     "metadata": {},
     "output_type": "execute_result"
    }
   ],
   "source": [
    "toy_faster.relevant_set.head()"
   ]
  },
  {
   "cell_type": "code",
   "execution_count": 7,
   "id": "cf1c7ec5",
   "metadata": {},
   "outputs": [],
   "source": [
    "# toy_faster.relevant_set.to_csv('../data/toy_relevant_set.csv', index=False)"
   ]
  },
  {
   "cell_type": "code",
   "execution_count": null,
   "id": "2d82ac34",
   "metadata": {},
   "outputs": [],
   "source": []
  }
 ],
 "metadata": {
  "kernelspec": {
   "display_name": "Python 3 (ipykernel)",
   "language": "python",
   "name": "python3"
  },
  "language_info": {
   "codemirror_mode": {
    "name": "ipython",
    "version": 3
   },
   "file_extension": ".py",
   "mimetype": "text/x-python",
   "name": "python",
   "nbconvert_exporter": "python",
   "pygments_lexer": "ipython3",
   "version": "3.9.16"
  }
 },
 "nbformat": 4,
 "nbformat_minor": 5
}
