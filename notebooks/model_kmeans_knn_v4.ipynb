{
 "cells": [
  {
   "cell_type": "markdown",
   "id": "9195df5d",
   "metadata": {},
   "source": [
    "Updated: Jul18th, 2022"
   ]
  },
  {
   "cell_type": "code",
   "execution_count": 1,
   "id": "a57394a0",
   "metadata": {},
   "outputs": [],
   "source": [
    "from hmcollab import datasets\n",
    "from hmcollab import articles\n",
    "from hmcollab import transactions\n",
    "from hmcollab import models"
   ]
  },
  {
   "cell_type": "code",
   "execution_count": 2,
   "id": "c33d4c84",
   "metadata": {},
   "outputs": [],
   "source": [
    "import math\n",
    "import pandas as pd\n",
    "from sklearn.cluster import KMeans\n",
    "from IPython.display import Image, display\n",
    "from datetime import datetime, timedelta"
   ]
  },
  {
   "cell_type": "code",
   "execution_count": 3,
   "id": "b2e28dbd",
   "metadata": {},
   "outputs": [],
   "source": [
    "# note that display_articles is having issues finding some images\n",
    "def display_articles(dataset, articles):\n",
    "    # articles is a list of article_ids\n",
    "    for article_id in articles:\n",
    "        filename = dataset.tree.image(article_id)\n",
    "        display(Image(filename, width = 300, height = 100))\n"
   ]
  },
  {
   "cell_type": "markdown",
   "id": "44b31c47",
   "metadata": {},
   "source": [
    "## Toy dataset"
   ]
  },
  {
   "cell_type": "code",
   "execution_count": 4,
   "id": "441e880f",
   "metadata": {},
   "outputs": [
    {
     "name": "stdout",
     "output_type": "stream",
     "text": [
      "Transactions shape:  (252406, 5)\n",
      "Unique customers:  (10899,)\n",
      "train_x shape:  (197978, 5)\n",
      "train_y shape:  (1603, 5)\n",
      "test_x shape:  (52393, 5)\n",
      "test_y shape:  (432, 5)\n",
      "transactions_x:  (250371, 5)\n",
      "transactions_y:  (2035, 5)\n",
      "Relevant set:  (578, 2)\n"
     ]
    }
   ],
   "source": [
    "toy = datasets.HMDataset(toy=True)\n",
    "print('Transactions shape: ', toy.transactions.shape)\n",
    "print('Unique customers: ',toy.transactions.customer_id.unique().shape)\n",
    "print('train_x shape: ', toy.train_x.shape)\n",
    "print('train_y shape: ', toy.train_y.shape)\n",
    "print('test_x shape: ', toy.test_x.shape)\n",
    "print('test_y shape: ', toy.test_y.shape)\n",
    "toy_target = datasets.Target(toy.transactions)\n",
    "print('transactions_x: ', toy_target.transactions_x.shape)\n",
    "print('transactions_y: ', toy_target.transactions_y.shape)\n",
    "print('Relevant set: ', toy_target.relevant_set.shape)"
   ]
  },
  {
   "cell_type": "code",
   "execution_count": 5,
   "id": "c56ae579",
   "metadata": {},
   "outputs": [
    {
     "name": "stdout",
     "output_type": "stream",
     "text": [
      "articles:  (105542, 652)\n"
     ]
    }
   ],
   "source": [
    "toy_dummies = articles.ArticleFeaturesSimpleFeatures(toy.articles, use_article_id=True).x\n",
    "print('articles: ', toy_dummies.shape)  # (105542, 652)"
   ]
  },
  {
   "cell_type": "code",
   "execution_count": 6,
   "id": "2765da78",
   "metadata": {},
   "outputs": [],
   "source": [
    "toy_knn = models.KnnRecommender(toy, toy_dummies)  # already using only train set"
   ]
  },
  {
   "cell_type": "code",
   "execution_count": 7,
   "id": "2fb237b9",
   "metadata": {},
   "outputs": [
    {
     "data": {
      "text/plain": [
       "(197978, 5)"
      ]
     },
     "execution_count": 7,
     "metadata": {},
     "output_type": "execute_result"
    }
   ],
   "source": [
    "toy_knn.t.df.shape"
   ]
  },
  {
   "cell_type": "code",
   "execution_count": 8,
   "id": "8324f382",
   "metadata": {},
   "outputs": [
    {
     "name": "stdout",
     "output_type": "stream",
     "text": [
      "Unique customers at test transactions file (8691,)\n"
     ]
    }
   ],
   "source": [
    "toy_train_customer_ids = toy.train_x.customer_id.unique()\n",
    "print('Unique customers at test transactions file', toy_train_customer_ids.shape)   # (8691,)"
   ]
  },
  {
   "cell_type": "code",
   "execution_count": 9,
   "id": "5e172ce9",
   "metadata": {},
   "outputs": [
    {
     "name": "stdout",
     "output_type": "stream",
     "text": [
      "Unique customers at test transactions file (2172,)\n"
     ]
    }
   ],
   "source": [
    "toy_test_customer_ids = toy.test_x.customer_id.unique()\n",
    "print('Unique customers at test transactions file', toy_test_customer_ids.shape)   # (2172,)"
   ]
  },
  {
   "cell_type": "code",
   "execution_count": 10,
   "id": "3ad6f79a",
   "metadata": {},
   "outputs": [
    {
     "data": {
      "text/plain": [
       "52"
      ]
     },
     "execution_count": 10,
     "metadata": {},
     "output_type": "execute_result"
    }
   ],
   "source": [
    "toy.test_x.loc[toy.test_x.customer_id.isin(['041b31a7f12c6ccde9c1f2d9e8fd5cb960cdddffe289b443bb4326a47e506a51']),:].article_id.nunique()"
   ]
  },
  {
   "cell_type": "code",
   "execution_count": 10,
   "id": "0dad0285",
   "metadata": {},
   "outputs": [
    {
     "name": "stdout",
     "output_type": "stream",
     "text": [
      "customer_dummies 205\n"
     ]
    },
    {
     "data": {
      "text/plain": [
       "['0399087010',\n",
       " '0399136034',\n",
       " '0188183001',\n",
       " '0377289002',\n",
       " '0509843003',\n",
       " '0518329007',\n",
       " '0712517005',\n",
       " '0805571001',\n",
       " '0546141001',\n",
       " '0608910001',\n",
       " '0505071001',\n",
       " '0508691009']"
      ]
     },
     "execution_count": 10,
     "metadata": {},
     "output_type": "execute_result"
    }
   ],
   "source": [
    "# Recommendations for the first customer\n",
    "toy_recommendations_1st = toy_knn.recommend(toy_train_customer_ids[0])\n",
    "toy_recommendations_1st"
   ]
  },
  {
   "cell_type": "code",
   "execution_count": 11,
   "id": "9cd19b93",
   "metadata": {},
   "outputs": [
    {
     "name": "stdout",
     "output_type": "stream",
     "text": [
      "customer_dummies 0\n",
      "Customer with few obs:  041b31a7f12c6ccde9c1f2d9e8fd5cb960cdddffe289b443bb4326a47e506a51\n"
     ]
    },
    {
     "ename": "ValueError",
     "evalue": "Found array with 0 sample(s) (shape=(0, 651)) while a minimum of 1 is required.",
     "output_type": "error",
     "traceback": [
      "\u001b[0;31m---------------------------------------------------------------------------\u001b[0m",
      "\u001b[0;31mValueError\u001b[0m                                Traceback (most recent call last)",
      "Input \u001b[0;32mIn [11]\u001b[0m, in \u001b[0;36m<cell line: 2>\u001b[0;34m()\u001b[0m\n\u001b[1;32m      1\u001b[0m \u001b[38;5;66;03m# Recommendations for the first customer from test\u001b[39;00m\n\u001b[0;32m----> 2\u001b[0m toy_test_recommendations_1st \u001b[38;5;241m=\u001b[39m \u001b[43mtoy_knn\u001b[49m\u001b[38;5;241;43m.\u001b[39;49m\u001b[43mrecommend\u001b[49m\u001b[43m(\u001b[49m\u001b[43mtoy_test_customer_ids\u001b[49m\u001b[43m[\u001b[49m\u001b[38;5;241;43m0\u001b[39;49m\u001b[43m]\u001b[49m\u001b[43m)\u001b[49m\n\u001b[1;32m      3\u001b[0m toy_test_recommendations_1st\n",
      "File \u001b[0;32m~/Desktop/Gina/MachineLearning/Proyectos/HM/HM-clothing-project/hmcollab/models.py:63\u001b[0m, in \u001b[0;36mKnnRecommender.recommend\u001b[0;34m(self, customer)\u001b[0m\n\u001b[1;32m     61\u001b[0m     \u001b[38;5;28mprint\u001b[39m(\u001b[38;5;124m'\u001b[39m\u001b[38;5;124mCustomer with few obs: \u001b[39m\u001b[38;5;124m'\u001b[39m, customer)\n\u001b[1;32m     62\u001b[0m     min_k \u001b[38;5;241m=\u001b[39m customer_dummies\u001b[38;5;241m.\u001b[39mshape[\u001b[38;5;241m0\u001b[39m]   \u001b[38;5;66;03m# so far it will produce less recommendations for this customer\u001b[39;00m\n\u001b[0;32m---> 63\u001b[0m all_groups \u001b[38;5;241m=\u001b[39m \u001b[43mtransactions\u001b[49m\u001b[38;5;241;43m.\u001b[39;49m\u001b[43mkmeans_consumer\u001b[49m\u001b[43m(\u001b[49m\u001b[43mcustomer_dummies\u001b[49m\u001b[43m,\u001b[49m\u001b[43m \u001b[49m\u001b[43mk\u001b[49m\u001b[38;5;241;43m=\u001b[39;49m\u001b[43mmin_k\u001b[49m\u001b[43m)\u001b[49m\n\u001b[1;32m     64\u001b[0m \u001b[38;5;28;01mfor\u001b[39;00m i \u001b[38;5;129;01min\u001b[39;00m \u001b[38;5;28mrange\u001b[39m(min_k):\n\u001b[1;32m     65\u001b[0m     one_group \u001b[38;5;241m=\u001b[39m all_groups\u001b[38;5;241m.\u001b[39mcluster_centers_[i]\n",
      "File \u001b[0;32m~/Desktop/Gina/MachineLearning/Proyectos/HM/HM-clothing-project/hmcollab/transactions.py:52\u001b[0m, in \u001b[0;36mkmeans_consumer\u001b[0;34m(customer_dummies, k)\u001b[0m\n\u001b[1;32m     47\u001b[0m \u001b[38;5;28;01mdef\u001b[39;00m \u001b[38;5;21mkmeans_consumer\u001b[39m(customer_dummies, k\u001b[38;5;241m=\u001b[39m\u001b[38;5;241m1\u001b[39m):\n\u001b[1;32m     48\u001b[0m     \u001b[38;5;66;03m# Note: Do not scale dummy features\u001b[39;00m\n\u001b[1;32m     49\u001b[0m     kmeans \u001b[38;5;241m=\u001b[39m KMeans(\n\u001b[1;32m     50\u001b[0m         init\u001b[38;5;241m=\u001b[39m\u001b[38;5;124m\"\u001b[39m\u001b[38;5;124mk-means++\u001b[39m\u001b[38;5;124m\"\u001b[39m, n_clusters\u001b[38;5;241m=\u001b[39mk, n_init\u001b[38;5;241m=\u001b[39m\u001b[38;5;241m10\u001b[39m, max_iter\u001b[38;5;241m=\u001b[39m\u001b[38;5;241m300\u001b[39m, random_state\u001b[38;5;241m=\u001b[39m\u001b[38;5;241m42\u001b[39m\n\u001b[1;32m     51\u001b[0m     )\n\u001b[0;32m---> 52\u001b[0m     \u001b[38;5;28;01mreturn\u001b[39;00m \u001b[43mkmeans\u001b[49m\u001b[38;5;241;43m.\u001b[39;49m\u001b[43mfit\u001b[49m\u001b[43m(\u001b[49m\u001b[43mcustomer_dummies\u001b[49m\u001b[43m)\u001b[49m\n",
      "File \u001b[0;32m/anaconda3/envs/hm/lib/python3.10/site-packages/sklearn/cluster/_kmeans.py:1137\u001b[0m, in \u001b[0;36mKMeans.fit\u001b[0;34m(self, X, y, sample_weight)\u001b[0m\n\u001b[1;32m   1111\u001b[0m \u001b[38;5;28;01mdef\u001b[39;00m \u001b[38;5;21mfit\u001b[39m(\u001b[38;5;28mself\u001b[39m, X, y\u001b[38;5;241m=\u001b[39m\u001b[38;5;28;01mNone\u001b[39;00m, sample_weight\u001b[38;5;241m=\u001b[39m\u001b[38;5;28;01mNone\u001b[39;00m):\n\u001b[1;32m   1112\u001b[0m     \u001b[38;5;124;03m\"\"\"Compute k-means clustering.\u001b[39;00m\n\u001b[1;32m   1113\u001b[0m \n\u001b[1;32m   1114\u001b[0m \u001b[38;5;124;03m    Parameters\u001b[39;00m\n\u001b[0;32m   (...)\u001b[0m\n\u001b[1;32m   1135\u001b[0m \u001b[38;5;124;03m        Fitted estimator.\u001b[39;00m\n\u001b[1;32m   1136\u001b[0m \u001b[38;5;124;03m    \"\"\"\u001b[39;00m\n\u001b[0;32m-> 1137\u001b[0m     X \u001b[38;5;241m=\u001b[39m \u001b[38;5;28;43mself\u001b[39;49m\u001b[38;5;241;43m.\u001b[39;49m\u001b[43m_validate_data\u001b[49m\u001b[43m(\u001b[49m\n\u001b[1;32m   1138\u001b[0m \u001b[43m        \u001b[49m\u001b[43mX\u001b[49m\u001b[43m,\u001b[49m\n\u001b[1;32m   1139\u001b[0m \u001b[43m        \u001b[49m\u001b[43maccept_sparse\u001b[49m\u001b[38;5;241;43m=\u001b[39;49m\u001b[38;5;124;43m\"\u001b[39;49m\u001b[38;5;124;43mcsr\u001b[39;49m\u001b[38;5;124;43m\"\u001b[39;49m\u001b[43m,\u001b[49m\n\u001b[1;32m   1140\u001b[0m \u001b[43m        \u001b[49m\u001b[43mdtype\u001b[49m\u001b[38;5;241;43m=\u001b[39;49m\u001b[43m[\u001b[49m\u001b[43mnp\u001b[49m\u001b[38;5;241;43m.\u001b[39;49m\u001b[43mfloat64\u001b[49m\u001b[43m,\u001b[49m\u001b[43m \u001b[49m\u001b[43mnp\u001b[49m\u001b[38;5;241;43m.\u001b[39;49m\u001b[43mfloat32\u001b[49m\u001b[43m]\u001b[49m\u001b[43m,\u001b[49m\n\u001b[1;32m   1141\u001b[0m \u001b[43m        \u001b[49m\u001b[43morder\u001b[49m\u001b[38;5;241;43m=\u001b[39;49m\u001b[38;5;124;43m\"\u001b[39;49m\u001b[38;5;124;43mC\u001b[39;49m\u001b[38;5;124;43m\"\u001b[39;49m\u001b[43m,\u001b[49m\n\u001b[1;32m   1142\u001b[0m \u001b[43m        \u001b[49m\u001b[43mcopy\u001b[49m\u001b[38;5;241;43m=\u001b[39;49m\u001b[38;5;28;43mself\u001b[39;49m\u001b[38;5;241;43m.\u001b[39;49m\u001b[43mcopy_x\u001b[49m\u001b[43m,\u001b[49m\n\u001b[1;32m   1143\u001b[0m \u001b[43m        \u001b[49m\u001b[43maccept_large_sparse\u001b[49m\u001b[38;5;241;43m=\u001b[39;49m\u001b[38;5;28;43;01mFalse\u001b[39;49;00m\u001b[43m,\u001b[49m\n\u001b[1;32m   1144\u001b[0m \u001b[43m    \u001b[49m\u001b[43m)\u001b[49m\n\u001b[1;32m   1146\u001b[0m     \u001b[38;5;28mself\u001b[39m\u001b[38;5;241m.\u001b[39m_check_params(X)\n\u001b[1;32m   1147\u001b[0m     random_state \u001b[38;5;241m=\u001b[39m check_random_state(\u001b[38;5;28mself\u001b[39m\u001b[38;5;241m.\u001b[39mrandom_state)\n",
      "File \u001b[0;32m/anaconda3/envs/hm/lib/python3.10/site-packages/sklearn/base.py:566\u001b[0m, in \u001b[0;36mBaseEstimator._validate_data\u001b[0;34m(self, X, y, reset, validate_separately, **check_params)\u001b[0m\n\u001b[1;32m    564\u001b[0m     \u001b[38;5;28;01mraise\u001b[39;00m \u001b[38;5;167;01mValueError\u001b[39;00m(\u001b[38;5;124m\"\u001b[39m\u001b[38;5;124mValidation should be done on X, y or both.\u001b[39m\u001b[38;5;124m\"\u001b[39m)\n\u001b[1;32m    565\u001b[0m \u001b[38;5;28;01melif\u001b[39;00m \u001b[38;5;129;01mnot\u001b[39;00m no_val_X \u001b[38;5;129;01mand\u001b[39;00m no_val_y:\n\u001b[0;32m--> 566\u001b[0m     X \u001b[38;5;241m=\u001b[39m \u001b[43mcheck_array\u001b[49m\u001b[43m(\u001b[49m\u001b[43mX\u001b[49m\u001b[43m,\u001b[49m\u001b[43m \u001b[49m\u001b[38;5;241;43m*\u001b[39;49m\u001b[38;5;241;43m*\u001b[39;49m\u001b[43mcheck_params\u001b[49m\u001b[43m)\u001b[49m\n\u001b[1;32m    567\u001b[0m     out \u001b[38;5;241m=\u001b[39m X\n\u001b[1;32m    568\u001b[0m \u001b[38;5;28;01melif\u001b[39;00m no_val_X \u001b[38;5;129;01mand\u001b[39;00m \u001b[38;5;129;01mnot\u001b[39;00m no_val_y:\n",
      "File \u001b[0;32m/anaconda3/envs/hm/lib/python3.10/site-packages/sklearn/utils/validation.py:805\u001b[0m, in \u001b[0;36mcheck_array\u001b[0;34m(array, accept_sparse, accept_large_sparse, dtype, order, copy, force_all_finite, ensure_2d, allow_nd, ensure_min_samples, ensure_min_features, estimator)\u001b[0m\n\u001b[1;32m    803\u001b[0m     n_samples \u001b[38;5;241m=\u001b[39m _num_samples(array)\n\u001b[1;32m    804\u001b[0m     \u001b[38;5;28;01mif\u001b[39;00m n_samples \u001b[38;5;241m<\u001b[39m ensure_min_samples:\n\u001b[0;32m--> 805\u001b[0m         \u001b[38;5;28;01mraise\u001b[39;00m \u001b[38;5;167;01mValueError\u001b[39;00m(\n\u001b[1;32m    806\u001b[0m             \u001b[38;5;124m\"\u001b[39m\u001b[38;5;124mFound array with \u001b[39m\u001b[38;5;132;01m%d\u001b[39;00m\u001b[38;5;124m sample(s) (shape=\u001b[39m\u001b[38;5;132;01m%s\u001b[39;00m\u001b[38;5;124m) while a\u001b[39m\u001b[38;5;124m\"\u001b[39m\n\u001b[1;32m    807\u001b[0m             \u001b[38;5;124m\"\u001b[39m\u001b[38;5;124m minimum of \u001b[39m\u001b[38;5;132;01m%d\u001b[39;00m\u001b[38;5;124m is required\u001b[39m\u001b[38;5;132;01m%s\u001b[39;00m\u001b[38;5;124m.\u001b[39m\u001b[38;5;124m\"\u001b[39m\n\u001b[1;32m    808\u001b[0m             \u001b[38;5;241m%\u001b[39m (n_samples, array\u001b[38;5;241m.\u001b[39mshape, ensure_min_samples, context)\n\u001b[1;32m    809\u001b[0m         )\n\u001b[1;32m    811\u001b[0m \u001b[38;5;28;01mif\u001b[39;00m ensure_min_features \u001b[38;5;241m>\u001b[39m \u001b[38;5;241m0\u001b[39m \u001b[38;5;129;01mand\u001b[39;00m array\u001b[38;5;241m.\u001b[39mndim \u001b[38;5;241m==\u001b[39m \u001b[38;5;241m2\u001b[39m:\n\u001b[1;32m    812\u001b[0m     n_features \u001b[38;5;241m=\u001b[39m array\u001b[38;5;241m.\u001b[39mshape[\u001b[38;5;241m1\u001b[39m]\n",
      "\u001b[0;31mValueError\u001b[0m: Found array with 0 sample(s) (shape=(0, 651)) while a minimum of 1 is required."
     ]
    }
   ],
   "source": [
    "# Recommendations for the first customer from test\n",
    "toy_test_recommendations_1st = toy_knn.recommend(toy_test_customer_ids[0])\n",
    "toy_test_recommendations_1st"
   ]
  },
  {
   "cell_type": "code",
   "execution_count": null,
   "id": "ec26c5c7",
   "metadata": {},
   "outputs": [],
   "source": [
    "display_articles(toy, toy_recommendations_1st)"
   ]
  },
  {
   "cell_type": "code",
   "execution_count": null,
   "id": "ed318ab4",
   "metadata": {},
   "outputs": [],
   "source": [
    "# ValueError: n_samples=5 should be >= n_clusters=6  # with groups=6 => Implementend min_k\n",
    "# Several warnings like below\n",
    "# /Users/gina/Desktop/Gina/MachineLearning/Proyectos/HM/HM-clothing-project/hmcollab/transactions.py:52: \n",
    "# ConvergenceWarning: Number of distinct clusters (4) found smaller than n_clusters (5). \n",
    "# Possibly due to duplicate points in X. return kmeans.fit(customer_dummies)\n",
    "begin = datetime.now()\n",
    "toy_recommendations = toy_knn.recommend_all(toy_test_customer_ids)\n",
    "print('Seconds: ', (datetime.now() - begin).total_seconds())\n",
    "toy_recommendations.head()"
   ]
  },
  {
   "cell_type": "code",
   "execution_count": null,
   "id": "860bb8bc",
   "metadata": {},
   "outputs": [],
   "source": []
  }
 ],
 "metadata": {
  "kernelspec": {
   "display_name": "Python 3 (ipykernel)",
   "language": "python",
   "name": "python3"
  },
  "language_info": {
   "codemirror_mode": {
    "name": "ipython",
    "version": 3
   },
   "file_extension": ".py",
   "mimetype": "text/x-python",
   "name": "python",
   "nbconvert_exporter": "python",
   "pygments_lexer": "ipython3",
   "version": "3.10.2"
  }
 },
 "nbformat": 4,
 "nbformat_minor": 5
}
