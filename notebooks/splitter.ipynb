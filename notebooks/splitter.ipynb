{
 "cells": [
  {
   "cell_type": "markdown",
   "id": "9195df5d",
   "metadata": {},
   "source": [
    "Updated: Jul18th, 2022"
   ]
  },
  {
   "cell_type": "code",
   "execution_count": 1,
   "id": "a57394a0",
   "metadata": {},
   "outputs": [],
   "source": [
    "from hmcollab import datasets\n",
    "from hmcollab import articles\n",
    "from hmcollab import transactions\n",
    "from hmcollab import models\n",
    "\n",
    "from hmcollab.three_part_dataset import ThreePartDataset\n",
    "from hmcollab.splitter import CustomerPortion"
   ]
  },
  {
   "cell_type": "code",
   "execution_count": 2,
   "id": "c33d4c84",
   "metadata": {},
   "outputs": [],
   "source": [
    "import math\n",
    "import pandas as pd\n",
    "import numpy as np\n",
    "from sklearn.cluster import KMeans\n",
    "from datetime import datetime, timedelta"
   ]
  },
  {
   "cell_type": "code",
   "execution_count": 3,
   "id": "b2e28dbd",
   "metadata": {},
   "outputs": [],
   "source": [
    "from display_data import display_article, display_articles\n"
   ]
  },
  {
   "cell_type": "markdown",
   "id": "44b31c47",
   "metadata": {},
   "source": [
    "## Toy dataset"
   ]
  },
  {
   "cell_type": "code",
   "execution_count": 4,
   "id": "441e880f",
   "metadata": {},
   "outputs": [
    {
     "name": "stdout",
     "output_type": "stream",
     "text": [
      "Transactions shape:  (252406, 5)\n",
      "Unique customers:  (10899,)\n",
      "train_x shape:  (197978, 5)\n",
      "train_y shape:  (1603, 5)\n",
      "test_x shape:  (52393, 5)\n",
      "test_y shape:  (432, 5)\n",
      "transactions_x:  (250371, 5)\n",
      "transactions_y:  (2035, 5)\n",
      "Relevant set:  (578, 2)\n"
     ]
    }
   ],
   "source": [
    "toy = datasets.HMDataset(toy=True)\n",
    "print('Transactions shape: ', toy.transactions.shape)\n",
    "print('Unique customers: ',toy.transactions.customer_id.unique().shape)\n",
    "print('train_x shape: ', toy.train_x.shape)\n",
    "print('train_y shape: ', toy.train_y.shape)\n",
    "print('test_x shape: ', toy.test_x.shape)\n",
    "print('test_y shape: ', toy.test_y.shape)\n",
    "toy_target = datasets.Target(toy.transactions)\n",
    "print('transactions_x: ', toy_target.transactions_x.shape)\n",
    "print('transactions_y: ', toy_target.transactions_y.shape)\n",
    "print('Relevant set: ', toy_target.relevant_set.shape)"
   ]
  },
  {
   "cell_type": "code",
   "execution_count": 5,
   "id": "272ed442",
   "metadata": {},
   "outputs": [],
   "source": [
    "r = np.random.RandomState(42)"
   ]
  },
  {
   "cell_type": "code",
   "execution_count": 6,
   "id": "3e15b47c",
   "metadata": {},
   "outputs": [],
   "source": [
    "all_customer_ids = toy.transactions.customer_id.unique()"
   ]
  },
  {
   "cell_type": "code",
   "execution_count": 7,
   "id": "e98fc57f",
   "metadata": {},
   "outputs": [],
   "source": [
    "customers_ids = r.choice(all_customer_ids, size=10, replace=False)"
   ]
  },
  {
   "cell_type": "code",
   "execution_count": 8,
   "id": "19133ce0",
   "metadata": {},
   "outputs": [
    {
     "data": {
      "text/plain": [
       "array(['d6a040a94e5f709a87845824c22fed05f14939741bce5cb5c57c29ffdea494c5',\n",
       "       '8257c6a4a65795661ff0fef326a4813334e04a0f2a3ebc2fe59c694a57ed8c63',\n",
       "       'd188dc011b022bb698630dac924b74f77a7a4045cc9a55ae0b4b27c209dde831',\n",
       "       'b2234985ffbc93a8c980bd1dca6c60671b1a9614a484a0993a46b019416e11fe',\n",
       "       '54e19f35be61f4d1c1168d74bfc0d63c872ce254b26af03a8d24dd1f0c8c5e02',\n",
       "       '684a5c9ae9a70b4301e264f46658cba04ae58e4b27634b80aa039b9f169ddc02',\n",
       "       '78a79ed428c7363d8e92ce175fc76fbf0c6d54182ccb2115035246ae7af9296a',\n",
       "       '400377ab04aca437c40a635c5ab27005f2da452c800f3085fd8d293a769193cd',\n",
       "       '20994b8c02cfab2de8a25e6b68b22e4bb72a3384f545a4f7fe7a75cfc3d86133',\n",
       "       '79da90917ddfb06c4fd022e3549c095a03e3a120aa028b01700e5b6c68fc9e10'],\n",
       "      dtype=object)"
      ]
     },
     "execution_count": 8,
     "metadata": {},
     "output_type": "execute_result"
    }
   ],
   "source": [
    "customers_ids"
   ]
  },
  {
   "cell_type": "code",
   "execution_count": 9,
   "id": "ad5ad58a",
   "metadata": {},
   "outputs": [],
   "source": [
    "customers = toy.customers.loc[toy.customers.customer_id.isin(customers_ids), :]"
   ]
  },
  {
   "cell_type": "code",
   "execution_count": 10,
   "id": "5337e66c",
   "metadata": {},
   "outputs": [
    {
     "data": {
      "text/plain": [
       "(10, 7)"
      ]
     },
     "execution_count": 10,
     "metadata": {},
     "output_type": "execute_result"
    }
   ],
   "source": [
    "customers.shape"
   ]
  },
  {
   "cell_type": "code",
   "execution_count": 11,
   "id": "a4bbe53b",
   "metadata": {},
   "outputs": [],
   "source": [
    "transactions = toy.transactions.loc[toy.transactions.customer_id.isin(customers_ids), :]"
   ]
  },
  {
   "cell_type": "code",
   "execution_count": 12,
   "id": "e5176e43",
   "metadata": {},
   "outputs": [
    {
     "data": {
      "text/plain": [
       "(348, 5)"
      ]
     },
     "execution_count": 12,
     "metadata": {},
     "output_type": "execute_result"
    }
   ],
   "source": [
    "transactions.shape"
   ]
  },
  {
   "cell_type": "code",
   "execution_count": 13,
   "id": "d1540c5b",
   "metadata": {},
   "outputs": [],
   "source": [
    "article_ids = transactions.article_id.unique()"
   ]
  },
  {
   "cell_type": "code",
   "execution_count": 14,
   "id": "d02b324c",
   "metadata": {},
   "outputs": [
    {
     "data": {
      "text/plain": [
       "array(['0504154015', '0504154016', '0620081006', '0589222001',\n",
       "       '0681815001', '0573085005', '0537346026', '0620081008',\n",
       "       '0633150001', '0428291001', '0646429003', '0539723001',\n",
       "       '0539723005', '0539723006', '0624151009', '0620337050',\n",
       "       '0624674011', '0643350005', '0569933002', '0633609002',\n",
       "       '0633607002', '0661647001', '0685054001', '0620625001',\n",
       "       '0657510001', '0649702008', '0639452005', '0677838002',\n",
       "       '0701102001', '0706536001', '0716258002', '0685689003',\n",
       "       '0685689001', '0723716001', '0186264014', '0186262001',\n",
       "       '0739618001', '0708352005', '0706016002', '0663568004',\n",
       "       '0719201001', '0708352001', '0706016003', '0630675001',\n",
       "       '0703559002', '0651905008', '0674492002', '0591631013',\n",
       "       '0588849001', '0692226003', '0565379023', '0729928001',\n",
       "       '0565379022', '0681376001', '0706016006', '0706016001',\n",
       "       '0674606017', '0697054015', '0674606001', '0580770001',\n",
       "       '0640716001', '0160442007', '0725293001', '0372860001',\n",
       "       '0689389001', '0562245050', '0689389018', '0714730002',\n",
       "       '0720654001', '0399256005', '0599580014', '0589599027',\n",
       "       '0717390001', '0696179002', '0698276001', '0712924001',\n",
       "       '0715343003', '0571706003', '0559633001', '0590928011',\n",
       "       '0692226004', '0687856001', '0680318005', '0690933006',\n",
       "       '0708472001', '0689811001', '0664461006', '0681373013',\n",
       "       '0716672001', '0796908001', '0719209001', '0565379001',\n",
       "       '0565379002', '0636407001', '0733438002', '0672625008',\n",
       "       '0554598010', '0760597002', '0700906008', '0699286001',\n",
       "       '0752187002', '0715474001', '0693485001', '0637262006',\n",
       "       '0711190002', '0681182004', '0624486001', '0745247004',\n",
       "       '0742083002', '0780340001', '0624486005', '0742087005',\n",
       "       '0624486006', '0694162001', '0738851003', '0638271005',\n",
       "       '0708380002', '0765184002', '0773351001', '0776006001',\n",
       "       '0249136015', '0599580017', '0723347001', '0740549001',\n",
       "       '0633130002', '0754374001', '0754374002', '0754910001',\n",
       "       '0523488001', '0637283010', '0689563003', '0712587002',\n",
       "       '0598811005', '0720125004', '0681657010', '0554598058',\n",
       "       '0770253001', '0731644003', '0767893004', '0680318001',\n",
       "       '0733097005', '0733097001', '0739348007', '0767893001',\n",
       "       '0666382008', '0749699009', '0573085033', '0754356001',\n",
       "       '0573085004', '0829135001', '0658298001', '0778064004',\n",
       "       '0778064005', '0573085034', '0674606024', '0717490017',\n",
       "       '0746309001', '0772945001', '0772902001', '0802023001',\n",
       "       '0761699001', '0762711001', '0534181008', '0740791001',\n",
       "       '0687704012', '0732409003', '0831218001', '0760454004',\n",
       "       '0687704028', '0266875001', '0666444001', '0782446003',\n",
       "       '0228257001', '0706016028', '0815001001', '0754275004',\n",
       "       '0820868001', '0783621001', '0787387001', '0695632048',\n",
       "       '0562245088', '0781688003', '0624257001', '0764387001',\n",
       "       '0679853020', '0826209001', '0830016001', '0793108003',\n",
       "       '0754291005', '0823963001', '0868306001', '0851062001',\n",
       "       '0543054005', '0674606048', '0700092001', '0452511001',\n",
       "       '0674606051', '0829302002', '0869162001', '0860738002',\n",
       "       '0829302004', '0828047001', '0158340001', '0874600002',\n",
       "       '0828047003', '0846139003', '0753737001', '0801765001',\n",
       "       '0832616001', '0809500002', '0720125007', '0769748002',\n",
       "       '0748566008', '0827957001', '0852775002', '0827957002',\n",
       "       '0794320006', '0765739002', '0765739007', '0829302003',\n",
       "       '0720125051', '0708021001', '0804996006', '0817181001',\n",
       "       '0841173002', '0707100003', '0859136003', '0776237006',\n",
       "       '0750424014', '0803315003', '0599580042', '0717490065',\n",
       "       '0717490059', '0612800016', '0824352001', '0631744004',\n",
       "       '0832453001', '0335037004', '0894815002', '0767480005',\n",
       "       '0843793001', '0767480004', '0900176001', '0832330002',\n",
       "       '0599580052', '0851094005', '0851094002', '0894815001',\n",
       "       '0823518001', '0850828001', '0868195001', '0827370001',\n",
       "       '0547780001', '0798579003', '0820827001', '0820827002',\n",
       "       '0810777004', '0917490001', '0816563001', '0880839006',\n",
       "       '0816563005', '0880839003', '0879288001', '0865921002',\n",
       "       '0732842009', '0658030001', '0658030016', '0894457001',\n",
       "       '0717490008', '0818403008', '0849942001', '0599580012',\n",
       "       '0776237026', '0865595003', '0865594003', '0698286004',\n",
       "       '0559601010', '0879999002', '0860819001', '0590928025',\n",
       "       '0860820001', '0712924016', '0817353008', '0888346003',\n",
       "       '0865921001', '0856405001', '0805007001', '0714803008',\n",
       "       '0448509014', '0876053002', '0751342008', '0878502001',\n",
       "       '0717490064', '0870345002', '0870328002', '0870531001',\n",
       "       '0876148003', '0573085043', '0882370001', '0904567002',\n",
       "       '0904567001', '0563519008', '0882900008', '0574109039',\n",
       "       '0882900004', '0563519018'], dtype=object)"
      ]
     },
     "execution_count": 14,
     "metadata": {},
     "output_type": "execute_result"
    }
   ],
   "source": [
    "article_ids"
   ]
  },
  {
   "cell_type": "code",
   "execution_count": 15,
   "id": "67808281",
   "metadata": {},
   "outputs": [
    {
     "data": {
      "text/plain": [
       "(306,)"
      ]
     },
     "execution_count": 15,
     "metadata": {},
     "output_type": "execute_result"
    }
   ],
   "source": [
    "article_ids.shape"
   ]
  },
  {
   "cell_type": "code",
   "execution_count": 16,
   "id": "43743c2d",
   "metadata": {},
   "outputs": [],
   "source": [
    "articles = toy.articles.loc[toy.articles.article_id.isin(article_ids), :]"
   ]
  },
  {
   "cell_type": "code",
   "execution_count": 17,
   "id": "7f130da9",
   "metadata": {},
   "outputs": [
    {
     "data": {
      "text/plain": [
       "(306, 25)"
      ]
     },
     "execution_count": 17,
     "metadata": {},
     "output_type": "execute_result"
    }
   ],
   "source": [
    "articles.shape"
   ]
  },
  {
   "cell_type": "code",
   "execution_count": 18,
   "id": "da842a9f",
   "metadata": {},
   "outputs": [],
   "source": [
    "portion = CustomerPortion(customers_ids)"
   ]
  },
  {
   "cell_type": "code",
   "execution_count": 19,
   "id": "f510eeb3",
   "metadata": {},
   "outputs": [],
   "source": [
    "ds = portion.split(toy)"
   ]
  },
  {
   "cell_type": "code",
   "execution_count": 20,
   "id": "0750897d",
   "metadata": {},
   "outputs": [
    {
     "data": {
      "text/plain": [
       "(10, 7)"
      ]
     },
     "execution_count": 20,
     "metadata": {},
     "output_type": "execute_result"
    }
   ],
   "source": [
    "ds.customers.shape"
   ]
  },
  {
   "cell_type": "code",
   "execution_count": 21,
   "id": "ce3ab4dc",
   "metadata": {},
   "outputs": [
    {
     "data": {
      "text/plain": [
       "(348, 5)"
      ]
     },
     "execution_count": 21,
     "metadata": {},
     "output_type": "execute_result"
    }
   ],
   "source": [
    "ds.transactions.shape"
   ]
  },
  {
   "cell_type": "code",
   "execution_count": 22,
   "id": "a4079d59",
   "metadata": {},
   "outputs": [
    {
     "data": {
      "text/plain": [
       "(306, 25)"
      ]
     },
     "execution_count": 22,
     "metadata": {},
     "output_type": "execute_result"
    }
   ],
   "source": [
    "ds.articles.shape"
   ]
  },
  {
   "cell_type": "code",
   "execution_count": null,
   "id": "46f72de7",
   "metadata": {},
   "outputs": [],
   "source": []
  }
 ],
 "metadata": {
  "kernelspec": {
   "display_name": "Python 3 (ipykernel)",
   "language": "python",
   "name": "python3"
  },
  "language_info": {
   "codemirror_mode": {
    "name": "ipython",
    "version": 3
   },
   "file_extension": ".py",
   "mimetype": "text/x-python",
   "name": "python",
   "nbconvert_exporter": "python",
   "pygments_lexer": "ipython3",
   "version": "3.8.12"
  }
 },
 "nbformat": 4,
 "nbformat_minor": 5
}
